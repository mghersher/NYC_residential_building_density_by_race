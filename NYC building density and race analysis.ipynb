{
 "cells": [
  {
   "cell_type": "markdown",
   "metadata": {},
   "source": [
    "This notebook prepares geospatial data for mapping in Carto. It performs some light cleaning and analysis on NYC's residential zoning dataset (MapPluto) and race data from the American Community Survey (ACS). The analysis focuses on the question:  Do the residential zones of New York City that are highly built up (ie. consist of buildings that utilize a high percentage of their allotted FAR) correlate with neighborhoods that are predominantly non-white?"
   ]
  },
  {
   "cell_type": "markdown",
   "metadata": {},
   "source": [
    "#### Load required packages"
   ]
  },
  {
   "cell_type": "code",
   "execution_count": 99,
   "metadata": {},
   "outputs": [],
   "source": [
    "from cartoframes.auth import set_default_credentials\n",
    "from cartoframes import to_carto\n",
    "\n",
    "import geopandas as gpd\n",
    "import pandas as pd\n",
    "import fiona\n",
    "import numpy as np\n",
    "\n",
    "from matplotlib import pyplot as plt\n",
    "\n",
    "import censusdata"
   ]
  },
  {
   "cell_type": "markdown",
   "metadata": {},
   "source": [
    "#### Define helpful function"
   ]
  },
  {
   "cell_type": "code",
   "execution_count": 2,
   "metadata": {},
   "outputs": [],
   "source": [
    "def to_epsg_4326(gdf):\n",
    "    '''\n",
    "    Checks CRS of geodataframe and convert it to epsg_4326 if not already that (this is the projection CARTO requires)\n",
    "    Note: gdf.crs['init'] will now error, just do gdf.crs- https://geopandas.org/projections.html\n",
    "    '''\n",
    "    current_crs = gdf.crs\n",
    "    if current_crs == 'epsg:4326':\n",
    "        print('CRS was already epsg:4326')\n",
    "        return gdf\n",
    "    else:\n",
    "        print(\"Current CRS was {}. Reprojecting to epsg:4326.\".format(current_crs))\n",
    "        reprojected_gdf = gdf.to_crs(epsg=4326)\n",
    "        return reprojected_gdf\n",
    "        "
   ]
  },
  {
   "cell_type": "markdown",
   "metadata": {},
   "source": [
    "#### Load credentials to be able to publish cleaned data directly to CARTO account"
   ]
  },
  {
   "cell_type": "code",
   "execution_count": 4,
   "metadata": {},
   "outputs": [],
   "source": [
    "set_default_credentials('credentials/carto_cred.json')"
   ]
  },
  {
   "cell_type": "markdown",
   "metadata": {},
   "source": [
    "#### Examine MapPluto zoning geodatabase to identify which layer to extract"
   ]
  },
  {
   "cell_type": "code",
   "execution_count": 6,
   "metadata": {},
   "outputs": [
    {
     "name": "stdout",
     "output_type": "stream",
     "text": [
      "['MapPLUTO_20v6_clipped', 'NOT_MAPPED_LOTS']\n"
     ]
    }
   ],
   "source": [
    "print(fiona.listlayers('raw_data/MapPluto/MapPLUTO_20v6.gdb'))\n"
   ]
  },
  {
   "cell_type": "markdown",
   "metadata": {},
   "source": [
    "#### Import zoning data from MapPluto\n",
    "MapPluto data dictionary - https://www1.nyc.gov/assets/planning/download/pdf/data-maps/open-data/pluto_datadictionary.pdf?v=20v6\n",
    "\n",
    "Important note from documentation: A TOTAL BUILDING FLOOR AREA of zero can mean it is either not available or\n",
    "not applicable. If NUMBER OF BUILDINGS is greater than zero, then a TOTAL\n",
    "BUILDING FLOOR AREA of zero means it is not available."
   ]
  },
  {
   "cell_type": "code",
   "execution_count": 7,
   "metadata": {},
   "outputs": [
    {
     "name": "stdout",
     "output_type": "stream",
     "text": [
      "Current CRS was epsg:2263. Reprojecting to epsg:4326.\n",
      "There are 857195 tax lots in MapPluto\n"
     ]
    },
    {
     "data": {
      "text/html": [
       "<div>\n",
       "<style scoped>\n",
       "    .dataframe tbody tr th:only-of-type {\n",
       "        vertical-align: middle;\n",
       "    }\n",
       "\n",
       "    .dataframe tbody tr th {\n",
       "        vertical-align: top;\n",
       "    }\n",
       "\n",
       "    .dataframe thead th {\n",
       "        text-align: right;\n",
       "    }\n",
       "</style>\n",
       "<table border=\"1\" class=\"dataframe\">\n",
       "  <thead>\n",
       "    <tr style=\"text-align: right;\">\n",
       "      <th></th>\n",
       "      <th>Borough</th>\n",
       "      <th>Block</th>\n",
       "      <th>Lot</th>\n",
       "      <th>CD</th>\n",
       "      <th>CT2010</th>\n",
       "      <th>CB2010</th>\n",
       "      <th>SchoolDist</th>\n",
       "      <th>Council</th>\n",
       "      <th>ZipCode</th>\n",
       "      <th>FireComp</th>\n",
       "      <th>...</th>\n",
       "      <th>FIRM07_FLAG</th>\n",
       "      <th>PFIRM15_FLAG</th>\n",
       "      <th>Version</th>\n",
       "      <th>DCPEdited</th>\n",
       "      <th>Latitude</th>\n",
       "      <th>Longitude</th>\n",
       "      <th>Notes</th>\n",
       "      <th>Shape_Leng</th>\n",
       "      <th>Shape_Area</th>\n",
       "      <th>geometry</th>\n",
       "    </tr>\n",
       "  </thead>\n",
       "  <tbody>\n",
       "    <tr>\n",
       "      <th>0</th>\n",
       "      <td>MN</td>\n",
       "      <td>1</td>\n",
       "      <td>10</td>\n",
       "      <td>101.0</td>\n",
       "      <td>5</td>\n",
       "      <td>1000</td>\n",
       "      <td>02</td>\n",
       "      <td>1.0</td>\n",
       "      <td>10004.0</td>\n",
       "      <td>E007</td>\n",
       "      <td>...</td>\n",
       "      <td>1</td>\n",
       "      <td>1</td>\n",
       "      <td>20v6</td>\n",
       "      <td>None</td>\n",
       "      <td>40.688799</td>\n",
       "      <td>-74.018675</td>\n",
       "      <td>None</td>\n",
       "      <td>0.0</td>\n",
       "      <td>7.550339e+06</td>\n",
       "      <td>MULTIPOLYGON (((-74.02240 40.68442, -74.02404 ...</td>\n",
       "    </tr>\n",
       "    <tr>\n",
       "      <th>1</th>\n",
       "      <td>MN</td>\n",
       "      <td>1</td>\n",
       "      <td>101</td>\n",
       "      <td>101.0</td>\n",
       "      <td>1</td>\n",
       "      <td>1001</td>\n",
       "      <td>02</td>\n",
       "      <td>1.0</td>\n",
       "      <td>10004.0</td>\n",
       "      <td>E007</td>\n",
       "      <td>...</td>\n",
       "      <td>None</td>\n",
       "      <td>1</td>\n",
       "      <td>20v6</td>\n",
       "      <td>None</td>\n",
       "      <td>40.689920</td>\n",
       "      <td>-74.045337</td>\n",
       "      <td>None</td>\n",
       "      <td>0.0</td>\n",
       "      <td>5.018973e+05</td>\n",
       "      <td>MULTIPOLYGON (((-74.04270 40.69006, -74.04263 ...</td>\n",
       "    </tr>\n",
       "    <tr>\n",
       "      <th>2</th>\n",
       "      <td>MN</td>\n",
       "      <td>1</td>\n",
       "      <td>201</td>\n",
       "      <td>101.0</td>\n",
       "      <td>1</td>\n",
       "      <td>1000</td>\n",
       "      <td>02</td>\n",
       "      <td>NaN</td>\n",
       "      <td>10004.0</td>\n",
       "      <td>None</td>\n",
       "      <td>...</td>\n",
       "      <td>None</td>\n",
       "      <td>1</td>\n",
       "      <td>20v6</td>\n",
       "      <td>None</td>\n",
       "      <td>40.698188</td>\n",
       "      <td>-74.041329</td>\n",
       "      <td>None</td>\n",
       "      <td>0.0</td>\n",
       "      <td>1.148539e+06</td>\n",
       "      <td>MULTIPOLYGON (((-74.03823 40.69837, -74.03823 ...</td>\n",
       "    </tr>\n",
       "    <tr>\n",
       "      <th>3</th>\n",
       "      <td>MN</td>\n",
       "      <td>2</td>\n",
       "      <td>1</td>\n",
       "      <td>101.0</td>\n",
       "      <td>9</td>\n",
       "      <td>1025</td>\n",
       "      <td>02</td>\n",
       "      <td>1.0</td>\n",
       "      <td>10004.0</td>\n",
       "      <td>L015</td>\n",
       "      <td>...</td>\n",
       "      <td>1</td>\n",
       "      <td>1</td>\n",
       "      <td>20v6</td>\n",
       "      <td>t</td>\n",
       "      <td>40.700369</td>\n",
       "      <td>-74.012911</td>\n",
       "      <td>None</td>\n",
       "      <td>0.0</td>\n",
       "      <td>1.008250e+05</td>\n",
       "      <td>MULTIPOLYGON (((-74.01302 40.69976, -74.01313 ...</td>\n",
       "    </tr>\n",
       "    <tr>\n",
       "      <th>4</th>\n",
       "      <td>MN</td>\n",
       "      <td>2</td>\n",
       "      <td>2</td>\n",
       "      <td>101.0</td>\n",
       "      <td>9</td>\n",
       "      <td>1025</td>\n",
       "      <td>02</td>\n",
       "      <td>1.0</td>\n",
       "      <td>10004.0</td>\n",
       "      <td>L015</td>\n",
       "      <td>...</td>\n",
       "      <td>1</td>\n",
       "      <td>1</td>\n",
       "      <td>20v6</td>\n",
       "      <td>None</td>\n",
       "      <td>40.700550</td>\n",
       "      <td>-74.011588</td>\n",
       "      <td>None</td>\n",
       "      <td>0.0</td>\n",
       "      <td>8.724425e+04</td>\n",
       "      <td>MULTIPOLYGON (((-74.01203 40.70004, -74.01246 ...</td>\n",
       "    </tr>\n",
       "  </tbody>\n",
       "</table>\n",
       "<p>5 rows × 93 columns</p>\n",
       "</div>"
      ],
      "text/plain": [
       "  Borough  Block  Lot     CD CT2010 CB2010 SchoolDist  Council  ZipCode  \\\n",
       "0      MN      1   10  101.0      5   1000         02      1.0  10004.0   \n",
       "1      MN      1  101  101.0      1   1001         02      1.0  10004.0   \n",
       "2      MN      1  201  101.0      1   1000         02      NaN  10004.0   \n",
       "3      MN      2    1  101.0      9   1025         02      1.0  10004.0   \n",
       "4      MN      2    2  101.0      9   1025         02      1.0  10004.0   \n",
       "\n",
       "  FireComp  ...  FIRM07_FLAG  PFIRM15_FLAG  Version DCPEdited   Latitude  \\\n",
       "0     E007  ...            1             1     20v6      None  40.688799   \n",
       "1     E007  ...         None             1     20v6      None  40.689920   \n",
       "2     None  ...         None             1     20v6      None  40.698188   \n",
       "3     L015  ...            1             1     20v6         t  40.700369   \n",
       "4     L015  ...            1             1     20v6      None  40.700550   \n",
       "\n",
       "   Longitude Notes Shape_Leng    Shape_Area  \\\n",
       "0 -74.018675  None        0.0  7.550339e+06   \n",
       "1 -74.045337  None        0.0  5.018973e+05   \n",
       "2 -74.041329  None        0.0  1.148539e+06   \n",
       "3 -74.012911  None        0.0  1.008250e+05   \n",
       "4 -74.011588  None        0.0  8.724425e+04   \n",
       "\n",
       "                                            geometry  \n",
       "0  MULTIPOLYGON (((-74.02240 40.68442, -74.02404 ...  \n",
       "1  MULTIPOLYGON (((-74.04270 40.69006, -74.04263 ...  \n",
       "2  MULTIPOLYGON (((-74.03823 40.69837, -74.03823 ...  \n",
       "3  MULTIPOLYGON (((-74.01302 40.69976, -74.01313 ...  \n",
       "4  MULTIPOLYGON (((-74.01203 40.70004, -74.01246 ...  \n",
       "\n",
       "[5 rows x 93 columns]"
      ]
     },
     "metadata": {},
     "output_type": "display_data"
    },
    {
     "data": {
      "text/html": [
       "<div>\n",
       "<style scoped>\n",
       "    .dataframe tbody tr th:only-of-type {\n",
       "        vertical-align: middle;\n",
       "    }\n",
       "\n",
       "    .dataframe tbody tr th {\n",
       "        vertical-align: top;\n",
       "    }\n",
       "\n",
       "    .dataframe thead th {\n",
       "        text-align: right;\n",
       "    }\n",
       "</style>\n",
       "<table border=\"1\" class=\"dataframe\">\n",
       "  <thead>\n",
       "    <tr style=\"text-align: right;\">\n",
       "      <th></th>\n",
       "      <th>land_use_id</th>\n",
       "      <th>land_use_description</th>\n",
       "    </tr>\n",
       "  </thead>\n",
       "  <tbody>\n",
       "    <tr>\n",
       "      <th>0</th>\n",
       "      <td>01</td>\n",
       "      <td>One &amp; Two Family Buildings</td>\n",
       "    </tr>\n",
       "    <tr>\n",
       "      <th>1</th>\n",
       "      <td>02</td>\n",
       "      <td>Multi-Family Walk-Up Buildings</td>\n",
       "    </tr>\n",
       "    <tr>\n",
       "      <th>2</th>\n",
       "      <td>03</td>\n",
       "      <td>Multi-Family Elevator Buildings</td>\n",
       "    </tr>\n",
       "    <tr>\n",
       "      <th>3</th>\n",
       "      <td>04</td>\n",
       "      <td>Mixed Residential &amp; Commercial Buildings</td>\n",
       "    </tr>\n",
       "    <tr>\n",
       "      <th>4</th>\n",
       "      <td>05</td>\n",
       "      <td>Commercial &amp; Office Buildings</td>\n",
       "    </tr>\n",
       "    <tr>\n",
       "      <th>5</th>\n",
       "      <td>06</td>\n",
       "      <td>Industrial &amp; Manufacturing</td>\n",
       "    </tr>\n",
       "    <tr>\n",
       "      <th>6</th>\n",
       "      <td>07</td>\n",
       "      <td>Transportation &amp; Utility</td>\n",
       "    </tr>\n",
       "    <tr>\n",
       "      <th>7</th>\n",
       "      <td>08</td>\n",
       "      <td>Public Facilities &amp; Institutions</td>\n",
       "    </tr>\n",
       "    <tr>\n",
       "      <th>8</th>\n",
       "      <td>09</td>\n",
       "      <td>Open Space &amp; Outdoor Recreation</td>\n",
       "    </tr>\n",
       "    <tr>\n",
       "      <th>9</th>\n",
       "      <td>10</td>\n",
       "      <td>Parking Facilities</td>\n",
       "    </tr>\n",
       "    <tr>\n",
       "      <th>10</th>\n",
       "      <td>11</td>\n",
       "      <td>Vacant Land</td>\n",
       "    </tr>\n",
       "  </tbody>\n",
       "</table>\n",
       "</div>"
      ],
      "text/plain": [
       "   land_use_id                      land_use_description\n",
       "0           01                One & Two Family Buildings\n",
       "1           02            Multi-Family Walk-Up Buildings\n",
       "2           03           Multi-Family Elevator Buildings\n",
       "3           04  Mixed Residential & Commercial Buildings\n",
       "4           05             Commercial & Office Buildings\n",
       "5           06                Industrial & Manufacturing\n",
       "6           07                  Transportation & Utility\n",
       "7           08          Public Facilities & Institutions\n",
       "8           09           Open Space & Outdoor Recreation\n",
       "9           10                        Parking Facilities\n",
       "10          11                               Vacant Land"
      ]
     },
     "metadata": {},
     "output_type": "display_data"
    },
    {
     "data": {
      "text/html": [
       "<div>\n",
       "<style scoped>\n",
       "    .dataframe tbody tr th:only-of-type {\n",
       "        vertical-align: middle;\n",
       "    }\n",
       "\n",
       "    .dataframe tbody tr th {\n",
       "        vertical-align: top;\n",
       "    }\n",
       "\n",
       "    .dataframe thead th {\n",
       "        text-align: right;\n",
       "    }\n",
       "</style>\n",
       "<table border=\"1\" class=\"dataframe\">\n",
       "  <thead>\n",
       "    <tr style=\"text-align: right;\">\n",
       "      <th></th>\n",
       "      <th>LandUse</th>\n",
       "      <th>land_use_description</th>\n",
       "    </tr>\n",
       "  </thead>\n",
       "  <tbody>\n",
       "    <tr>\n",
       "      <th>0</th>\n",
       "      <td>08</td>\n",
       "      <td>Public Facilities &amp; Institutions</td>\n",
       "    </tr>\n",
       "    <tr>\n",
       "      <th>1</th>\n",
       "      <td>08</td>\n",
       "      <td>Public Facilities &amp; Institutions</td>\n",
       "    </tr>\n",
       "    <tr>\n",
       "      <th>2</th>\n",
       "      <td>None</td>\n",
       "      <td>NaN</td>\n",
       "    </tr>\n",
       "    <tr>\n",
       "      <th>3</th>\n",
       "      <td>07</td>\n",
       "      <td>Transportation &amp; Utility</td>\n",
       "    </tr>\n",
       "    <tr>\n",
       "      <th>4</th>\n",
       "      <td>07</td>\n",
       "      <td>Transportation &amp; Utility</td>\n",
       "    </tr>\n",
       "  </tbody>\n",
       "</table>\n",
       "</div>"
      ],
      "text/plain": [
       "  LandUse              land_use_description\n",
       "0      08  Public Facilities & Institutions\n",
       "1      08  Public Facilities & Institutions\n",
       "2    None                               NaN\n",
       "3      07          Transportation & Utility\n",
       "4      07          Transportation & Utility"
      ]
     },
     "metadata": {},
     "output_type": "display_data"
    }
   ],
   "source": [
    "mappluto = gpd.read_file(\"raw_data/MapPluto/MapPLUTO_20v6.gdb\", driver='FileGDB', layer='MapPLUTO_20v6_clipped')\n",
    "\n",
    "#Project\n",
    "mappluto = to_epsg_4326(mappluto)\n",
    "print(\"There are {} tax lots in MapPluto\".format(mappluto.shape[0]))\n",
    "display(mappluto.head())\n",
    "\n",
    "#Merge in the description of each land use numeric id\n",
    "land_use_descriptions = ['One & Two Family Buildings', 'Multi-Family Walk-Up Buildings', 'Multi-Family Elevator Buildings', 'Mixed Residential & Commercial Buildings', 'Commercial & Office Buildings', 'Industrial & Manufacturing', 'Transportation & Utility', 'Public Facilities & Institutions', 'Open Space & Outdoor Recreation', 'Parking Facilities', 'Vacant Land']\n",
    "land_use_ids = list(range(1,len(land_use_descriptions)+1))\n",
    "land_use_ids = ['0' + str(val) if len(str(val))==1 else str(val) for val in land_use_ids]\n",
    "land_use_dict = pd.DataFrame({'land_use_id':land_use_ids, 'land_use_description':land_use_descriptions})\n",
    "display(land_use_dict)\n",
    "\n",
    "#Merge in landuse descriptions\n",
    "mappluto = mappluto.merge(land_use_dict, left_on = 'LandUse', right_on = 'land_use_id', how = 'left')\n",
    "display(mappluto[['LandUse', 'land_use_description']].head())\n",
    "\n",
    "#Replace lots missing land use categorization with 'Not defined'\n",
    "mappluto.loc[mappluto['LandUse'].isna(), 'land_use_description'] = \"Not defined\""
   ]
  },
  {
   "cell_type": "markdown",
   "metadata": {},
   "source": [
    "#### Calculate approximately how big MapPluto tax lots are in relation to census blocks\n",
    "MapPluto data is reported at the tax lot level, but ACS year data is reported using census tracts and block groups (block groups are more granular than census tracts). I need to know approximately how these geographic units relate in size to figure out what level to plot each dataset at."
   ]
  },
  {
   "cell_type": "code",
   "execution_count": 10,
   "metadata": {},
   "outputs": [
    {
     "name": "stdout",
     "output_type": "stream",
     "text": [
      "There are on average 25.659327821711 tax lots in each census block (which is slightly more granular than the block group that ACS 5 year data is reported at)\n"
     ]
    }
   ],
   "source": [
    "num_tax_lots_per_block = mappluto.groupby([\"Borough\",\"CT2010\",\"CB2010\"])['Lot'].count().mean()\n",
    "print(\"There are on average {} tax lots in each census block (which is slightly more granular than the block group that ACS 5 year data is reported at)\".format(num_tax_lots_per_block))"
   ]
  },
  {
   "cell_type": "markdown",
   "metadata": {},
   "source": [
    "### Subset out the tax lots that are primarily residential\n",
    "Using LandUse to do this and extracting:\n",
    "01 One & Two Family Buildings\n",
    "02 Multi-Family Walk-Up Buildings\n",
    "03 Multi-Family Elevator Buildings\n",
    "04 Mixed Residential & Commercial Buildings\n",
    "\n",
    "According to the data dictionary this is all of the lots that have a ZoneDist1 code that starts with R. "
   ]
  },
  {
   "cell_type": "code",
   "execution_count": 15,
   "metadata": {},
   "outputs": [
    {
     "name": "stdout",
     "output_type": "stream",
     "text": [
      "0.34041262489865204% of tax lots are missing the landuse code in NYC\n"
     ]
    }
   ],
   "source": [
    "### First check that land use is a good code to use to extract the residential buildings\n",
    "num_tax_lots = mappluto.shape[0]\n",
    "num_missing_landuse = mappluto[mappluto['LandUse'].isna()].shape[0]\n",
    "print(\"{}% of tax lots are missing the landuse code in NYC\".format(num_missing_landuse/num_tax_lots*100))"
   ]
  },
  {
   "cell_type": "code",
   "execution_count": 36,
   "metadata": {},
   "outputs": [
    {
     "name": "stdout",
     "output_type": "stream",
     "text": [
      "There are 764129 tax lots that are residential in NYC\n"
     ]
    }
   ],
   "source": [
    "residential = mappluto[mappluto['LandUse'].isin(['01', '02', '03', '04'])]\n",
    "print(\"There are {} tax lots that are residential in NYC\".format(residential.shape[0]))"
   ]
  },
  {
   "cell_type": "code",
   "execution_count": 37,
   "metadata": {},
   "outputs": [
    {
     "name": "stdout",
     "output_type": "stream",
     "text": [
      "These residential tax lots are distributed across land use types as follows:\n"
     ]
    },
    {
     "data": {
      "text/plain": [
       "land_use_description\n",
       "Mixed Residential & Commercial Buildings     54976\n",
       "Multi-Family Elevator Buildings              12504\n",
       "Multi-Family Walk-Up Buildings              131208\n",
       "One & Two Family Buildings                  565441\n",
       "Name: Lot, dtype: int64"
      ]
     },
     "execution_count": 37,
     "metadata": {},
     "output_type": "execute_result"
    }
   ],
   "source": [
    "print('These residential tax lots are distributed across land use types as follows:')\n",
    "residential.groupby(['land_use_description'])['Lot'].count()"
   ]
  },
  {
   "cell_type": "markdown",
   "metadata": {},
   "source": [
    "#### Calculate percent of residential allotted square footage used in residential zones\n",
    "\n",
    "MapPluto reports:\n",
    "- ResidFAR: maximum FAR that a tax lot is permitted to build up for residential use (not including exceptions)\n",
    "- LotArea: area of the tax lot\n",
    "- ResArea: area of the tax lot that has been built up for residential use\n",
    "\n",
    "Using these columns and the definition of FAR, we can calculate the percent of allotted residential FAR used in each tax lot (ie. how much of the permitted building volume the tax lot owner uses):\n",
    "ResArea/(ResidFAR\\*Lot Area)\n",
    "\n",
    "**Note**: Sometimes this percent is over 100% because the ResidFAR and the ResArea come from different departments in NYC, and the ResidFAR (allotted FAR) does not account for granted exceptions. I've exported these areas separately."
   ]
  },
  {
   "cell_type": "code",
   "execution_count": 38,
   "metadata": {},
   "outputs": [],
   "source": [
    "#Drop the ones that don't have any allotted residential FAR because these make the percentage infinity and those that have 0 lotArea since the meaning of these is unclear\n",
    "residential_analyze = residential[(residential['ResidFAR']!=0) & (residential['LotArea']!=0)]"
   ]
  },
  {
   "cell_type": "code",
   "execution_count": 39,
   "metadata": {},
   "outputs": [],
   "source": [
    "#Drop the ones where ResArea is 0 and UnitsRes (number of units built is 0) - this likely means the number was just unavailable\n",
    "residential_analyze = residential_analyze[~(residential_analyze['ResArea']==0) & (residential_analyze['UnitsRes']>0)]"
   ]
  },
  {
   "cell_type": "code",
   "execution_count": 40,
   "metadata": {},
   "outputs": [],
   "source": [
    "#Calculate percentage\n",
    "residential_analyze['percent_allowed_res_area_used'] = residential_analyze['ResArea']/(residential_analyze['ResidFAR']*residential['LotArea'])*100"
   ]
  },
  {
   "cell_type": "markdown",
   "metadata": {},
   "source": [
    "### Aggregate percent allotted FAR used from tax lot to census tract\n",
    "I'm calculating the average allotted FAR used in each census tract by averaging the percent of FAR used in each tax lot that falls in the census tract. While averaging percentages to get the average of the greater population does not accurately capture each subpopulations true contribution to the average (ie. bigger lots would contribute more), in this case I actually would like all tax lots to be counted the same irregardless of the size. This is because I'm trying to get a sense of the typical building behavior in each census tract (ie. whether owners of a tax lot typically use most of a lot's allotted FAR), and calculating the average this way accurately counts each tax lot owner equally.\n",
    "\n"
   ]
  },
  {
   "cell_type": "markdown",
   "metadata": {},
   "source": [
    "##### Calculate setting the tax lots that were over 100 to 100"
   ]
  },
  {
   "cell_type": "code",
   "execution_count": 41,
   "metadata": {},
   "outputs": [],
   "source": [
    "residential_gt_100_cleaned = residential_analyze.copy()\n",
    "residential_gt_100_cleaned.loc[(residential_gt_100_cleaned['percent_allowed_res_area_used']>100), 'percent_allowed_res_area_used'] = 100\n"
   ]
  },
  {
   "cell_type": "code",
   "execution_count": 42,
   "metadata": {},
   "outputs": [],
   "source": [
    "residential_plot_tract_gt_100_cleaned = residential_gt_100_cleaned[['Borough', 'CT2010', 'geometry', 'percent_allowed_res_area_used']].dissolve(by=[\"Borough\",\"CT2010\"], aggfunc = 'mean')"
   ]
  },
  {
   "cell_type": "code",
   "execution_count": 43,
   "metadata": {},
   "outputs": [
    {
     "name": "stdout",
     "output_type": "stream",
     "text": [
      "Success! Data uploaded to table \"residential_tract_avg_built_percentage_gt_100_cleaned\" correctly\n"
     ]
    },
    {
     "data": {
      "text/plain": [
       "'residential_tract_avg_built_percentage_gt_100_cleaned'"
      ]
     },
     "execution_count": 43,
     "metadata": {},
     "output_type": "execute_result"
    }
   ],
   "source": [
    "to_carto(residential_plot_tract_gt_100_cleaned, 'residential_tract_avg_built_percentage_gt_100_cleaned', if_exists='replace')"
   ]
  },
  {
   "cell_type": "code",
   "execution_count": 44,
   "metadata": {},
   "outputs": [
    {
     "data": {
      "text/plain": [
       "array([[<AxesSubplot:title={'center':'percent_allowed_res_area_used'}>]],\n",
       "      dtype=object)"
      ]
     },
     "execution_count": 44,
     "metadata": {},
     "output_type": "execute_result"
    },
    {
     "data": {
      "image/png": "[encoded data removed]",
      "text/plain": [
       "<Figure size 432x288 with 1 Axes>"
      ]
     },
     "metadata": {
      "needs_background": "light"
     },
     "output_type": "display_data"
    }
   ],
   "source": [
    "residential_plot_tract_gt_100_cleaned.hist(bins=100)"
   ]
  },
  {
   "cell_type": "markdown",
   "metadata": {},
   "source": [
    "##### Calculate throwing the tax lots that were over 100 out"
   ]
  },
  {
   "cell_type": "code",
   "execution_count": 45,
   "metadata": {},
   "outputs": [],
   "source": [
    "#Subset out the ones where more than 100% of allotted residential area was built\n",
    "residential_plot_lt_100 = residential_analyze[residential_analyze['percent_allowed_res_area_used']<=100]"
   ]
  },
  {
   "cell_type": "code",
   "execution_count": 67,
   "metadata": {},
   "outputs": [],
   "source": [
    "residential_plot_tract_lt_100 = residential_plot_lt_100[['Borough', 'CT2010', 'geometry', 'percent_allowed_res_area_used']].dissolve(by=[\"Borough\",\"CT2010\"], aggfunc = 'mean')"
   ]
  },
  {
   "cell_type": "code",
   "execution_count": 68,
   "metadata": {},
   "outputs": [
    {
     "name": "stdout",
     "output_type": "stream",
     "text": [
      "Success! Data uploaded to table \"residential_tract_avg_built_percentage_gt_100_thrown_out\" correctly\n"
     ]
    },
    {
     "data": {
      "text/plain": [
       "'residential_tract_avg_built_percentage_gt_100_thrown_out'"
      ]
     },
     "execution_count": 68,
     "metadata": {},
     "output_type": "execute_result"
    }
   ],
   "source": [
    "to_carto(residential_plot_tract_gt_100_cleaned, 'residential_tract_avg_built_percentage_gt_100_thrown_out', if_exists='replace')\n"
   ]
  },
  {
   "cell_type": "code",
   "execution_count": 69,
   "metadata": {},
   "outputs": [
    {
     "data": {
      "text/plain": [
       "<AxesSubplot:>"
      ]
     },
     "execution_count": 69,
     "metadata": {},
     "output_type": "execute_result"
    },
    {
     "data": {
      "image/png": "[encoded data removed]",
      "text/plain": [
       "<Figure size 432x288 with 1 Axes>"
      ]
     },
     "metadata": {
      "needs_background": "light"
     },
     "output_type": "display_data"
    }
   ],
   "source": [
    "residential_plot_tract_gt_100_cleaned['percent_allowed_res_area_used'].hist(bins=100)"
   ]
  },
  {
   "cell_type": "markdown",
   "metadata": {},
   "source": [
    "### Also calculate the built residential FAR at the tax lot and census tract level\n",
    "The percent of allotted FAR used gives a sense of building behaviors, but it does not necessarily give a sense of urban density because some neighborhoods have higher permitted FARs (ie. higher possible building density) than other neighborhoods. Because of this there could be neighborhoods where most tax lots have used low percentages of the allotted FAR that are more densely built up than neighborhoods with high percentages of the allotted FAR used (if the low percentage neighborhood has higher allotted FARs than the high percentage neighborhood). Plotting the built FAR directly will give a sense of experienced urban density in each neighborhood."
   ]
  },
  {
   "cell_type": "markdown",
   "metadata": {},
   "source": [
    "#### Calculate at tax lot level"
   ]
  },
  {
   "cell_type": "code",
   "execution_count": 59,
   "metadata": {},
   "outputs": [],
   "source": [
    "residential_analyze['built_resid_FAR'] = residential_analyze['ResArea']/residential_analyze['LotArea']"
   ]
  },
  {
   "cell_type": "code",
   "execution_count": 60,
   "metadata": {},
   "outputs": [
    {
     "data": {
      "text/plain": [
       "count    748968.000000\n",
       "mean          0.968227\n",
       "std           1.341864\n",
       "min           0.000001\n",
       "25%           0.474714\n",
       "50%           0.686079\n",
       "75%           1.053312\n",
       "max         359.384462\n",
       "Name: built_resid_FAR, dtype: float64"
      ]
     },
     "execution_count": 60,
     "metadata": {},
     "output_type": "execute_result"
    }
   ],
   "source": [
    "residential_analyze['built_resid_FAR'].describe()"
   ]
  },
  {
   "cell_type": "code",
   "execution_count": 65,
   "metadata": {},
   "outputs": [
    {
     "data": {
      "text/plain": [
       "<AxesSubplot:>"
      ]
     },
     "execution_count": 65,
     "metadata": {},
     "output_type": "execute_result"
    },
    {
     "data": {
      "image/png": "[encoded data removed]",
      "text/plain": [
       "<Figure size 432x288 with 1 Axes>"
      ]
     },
     "metadata": {
      "needs_background": "light"
     },
     "output_type": "display_data"
    }
   ],
   "source": [
    "#Drop the extreme outliers which seem like there are likely errors in\n",
    "residential_built_FAR_plot = residential_analyze[residential_analyze['built_resid_FAR']<10]\n",
    "residential_built_FAR_plot['built_resid_FAR'].hist(bins=100)"
   ]
  },
  {
   "cell_type": "code",
   "execution_count": 76,
   "metadata": {},
   "outputs": [
    {
     "data": {
      "text/html": [
       "<div>\n",
       "<style scoped>\n",
       "    .dataframe tbody tr th:only-of-type {\n",
       "        vertical-align: middle;\n",
       "    }\n",
       "\n",
       "    .dataframe tbody tr th {\n",
       "        vertical-align: top;\n",
       "    }\n",
       "\n",
       "    .dataframe thead th {\n",
       "        text-align: right;\n",
       "    }\n",
       "</style>\n",
       "<table border=\"1\" class=\"dataframe\">\n",
       "  <thead>\n",
       "    <tr style=\"text-align: right;\">\n",
       "      <th></th>\n",
       "      <th>Borough</th>\n",
       "      <th>Block</th>\n",
       "      <th>Lot</th>\n",
       "      <th>CD</th>\n",
       "      <th>CT2010</th>\n",
       "      <th>CB2010</th>\n",
       "      <th>SchoolDist</th>\n",
       "      <th>Council</th>\n",
       "      <th>ZipCode</th>\n",
       "      <th>FireComp</th>\n",
       "      <th>...</th>\n",
       "      <th>Notes</th>\n",
       "      <th>Shape_Leng</th>\n",
       "      <th>Shape_Area</th>\n",
       "      <th>geometry</th>\n",
       "      <th>land_use_id</th>\n",
       "      <th>land_use_description</th>\n",
       "      <th>percent_allowed_res_area_used</th>\n",
       "      <th>built_F\"AR</th>\n",
       "      <th>built_FAR</th>\n",
       "      <th>built_resid_FAR</th>\n",
       "    </tr>\n",
       "  </thead>\n",
       "  <tbody>\n",
       "  </tbody>\n",
       "</table>\n",
       "<p>0 rows × 99 columns</p>\n",
       "</div>"
      ],
      "text/plain": [
       "Empty GeoDataFrame\n",
       "Columns: [Borough, Block, Lot, CD, CT2010, CB2010, SchoolDist, Council, ZipCode, FireComp, PolicePrct, HealthCenterDistrict, HealthArea, Sanitboro, SanitDistrict, SanitSub, Address, ZoneDist1, ZoneDist2, ZoneDist3, ZoneDist4, Overlay1, Overlay2, SPDist1, SPDist2, SPDist3, LtdHeight, SplitZone, BldgClass, LandUse, Easements, OwnerType, OwnerName, LotArea, BldgArea, ComArea, ResArea, OfficeArea, RetailArea, GarageArea, StrgeArea, FactryArea, OtherArea, AreaSource, NumBldgs, NumFloors, UnitsRes, UnitsTotal, LotFront, LotDepth, BldgFront, BldgDepth, Ext, ProxCode, IrrLotCode, LotType, BsmtCode, AssessLand, AssessTot, ExemptTot, YearBuilt, YearAlter1, YearAlter2, HistDist, Landmark, BuiltFAR, ResidFAR, CommFAR, FacilFAR, BoroCode, BBL, CondoNo, Tract2010, XCoord, YCoord, ZoneMap, ZMCode, Sanborn, TaxMap, EDesigNum, APPBBL, APPDate, PLUTOMapID, FIRM07_FLAG, PFIRM15_FLAG, Version, DCPEdited, Latitude, Longitude, Notes, Shape_Leng, Shape_Area, geometry, land_use_id, land_use_description, percent_allowed_res_area_used, built_F\"AR, built_FAR, built_resid_FAR]\n",
       "Index: []\n",
       "\n",
       "[0 rows x 99 columns]"
      ]
     },
     "execution_count": 76,
     "metadata": {},
     "output_type": "execute_result"
    }
   ],
   "source": [
    "residential_built_FAR_plot[residential_built_FAR_plot['geometry'].isna()]"
   ]
  },
  {
   "cell_type": "code",
   "execution_count": 78,
   "metadata": {},
   "outputs": [
    {
     "name": "stdout",
     "output_type": "stream",
     "text": [
      "Success! Data uploaded to table \"residential_lot_built_far_outliers_thrown_out\" correctly\n"
     ]
    },
    {
     "data": {
      "text/plain": [
       "'residential_lot_built_far_outliers_thrown_out'"
      ]
     },
     "execution_count": 78,
     "metadata": {},
     "output_type": "execute_result"
    }
   ],
   "source": [
    "# Too granular to discern patterns, so using tract level analysis below\n",
    "# to_carto(residential_built_FAR_plot[['Borough', 'built_resid_FAR','geometry']], 'residential_lot_built_FAR_outliers_thrown_out', geom_col ='geometry', if_exists='replace')\n"
   ]
  },
  {
   "cell_type": "markdown",
   "metadata": {},
   "source": [
    "#### Calculate at census tract level weighing each tax lot builtFAR by LotArea\n",
    "This makes larger lots contribute to the average more, giving an accurate sense of what each neighborhood would feel like walking through it"
   ]
  },
  {
   "cell_type": "code",
   "execution_count": 85,
   "metadata": {},
   "outputs": [],
   "source": [
    "#Calculate weighted average at the tract level\n",
    "\n",
    "def wavg(group, avg_name, weight_name):\n",
    "    \"\"\" http://stackoverflow.com/questions/10951341/pandas-dataframe-aggregate-function-using-multiple-columns\n",
    "    In rare instance, we may not have weights, so just return the mean. Customize this if your business case\n",
    "    should return otherwise.\n",
    "    \"\"\"\n",
    "    d = group[avg_name]\n",
    "    w = group[weight_name]\n",
    "    try:\n",
    "        return (d * w).sum() / w.sum()\n",
    "    except ZeroDivisionError:\n",
    "        return d.mean()\n",
    "    \n",
    "residential_built_FAR_df=pd.DataFrame(residential_built_FAR_plot.groupby([\"Borough\",\"CT2010\"]).apply(wavg, \"built_resid_FAR\", \"LotArea\")).reset_index()\n",
    "residential_built_FAR_df.columns = ['Borough', 'CT2010', 'avg_built_FAR']"
   ]
  },
  {
   "cell_type": "code",
   "execution_count": 83,
   "metadata": {},
   "outputs": [],
   "source": [
    "#Calculate aggregated geometries\n",
    "tract_geometries = residential_built_FAR_plot[['Borough', 'CT2010', 'geometry']].dissolve(by=[\"Borough\",\"CT2010\"]).reset_index()"
   ]
  },
  {
   "cell_type": "code",
   "execution_count": 89,
   "metadata": {},
   "outputs": [
    {
     "data": {
      "text/html": [
       "<div>\n",
       "<style scoped>\n",
       "    .dataframe tbody tr th:only-of-type {\n",
       "        vertical-align: middle;\n",
       "    }\n",
       "\n",
       "    .dataframe tbody tr th {\n",
       "        vertical-align: top;\n",
       "    }\n",
       "\n",
       "    .dataframe thead th {\n",
       "        text-align: right;\n",
       "    }\n",
       "</style>\n",
       "<table border=\"1\" class=\"dataframe\">\n",
       "  <thead>\n",
       "    <tr style=\"text-align: right;\">\n",
       "      <th></th>\n",
       "      <th>Borough</th>\n",
       "      <th>CT2010</th>\n",
       "      <th>geometry</th>\n",
       "      <th>avg_built_FAR</th>\n",
       "    </tr>\n",
       "  </thead>\n",
       "  <tbody>\n",
       "  </tbody>\n",
       "</table>\n",
       "</div>"
      ],
      "text/plain": [
       "Empty GeoDataFrame\n",
       "Columns: [Borough, CT2010, geometry, avg_built_FAR]\n",
       "Index: []"
      ]
     },
     "execution_count": 89,
     "metadata": {},
     "output_type": "execute_result"
    }
   ],
   "source": [
    "#Merge in geometries\n",
    "residential_built_FAR_tract_gdf = tract_geometries.merge(residential_built_FAR_df, on = ['Borough', 'CT2010'], how='right')\n",
    "\n",
    "#Check if merge worked - should be empty df\n",
    "residential_built_FAR_tract_gdf[residential_built_FAR_tract_gdf['geometry'].isna()]"
   ]
  },
  {
   "cell_type": "code",
   "execution_count": 90,
   "metadata": {},
   "outputs": [
    {
     "data": {
      "text/plain": [
       "count    2096.000000\n",
       "mean        1.697028\n",
       "std         1.357641\n",
       "min         0.027515\n",
       "25%         0.698112\n",
       "50%         1.271330\n",
       "75%         2.241535\n",
       "max         9.133923\n",
       "Name: avg_built_FAR, dtype: float64"
      ]
     },
     "execution_count": 90,
     "metadata": {},
     "output_type": "execute_result"
    }
   ],
   "source": [
    "residential_built_FAR_tract_gdf['avg_built_FAR'].describe()"
   ]
  },
  {
   "cell_type": "code",
   "execution_count": 91,
   "metadata": {},
   "outputs": [
    {
     "name": "stdout",
     "output_type": "stream",
     "text": [
      "Success! Data uploaded to table \"residential_tract_built_far_outliers_thrown_out\" correctly\n"
     ]
    },
    {
     "data": {
      "text/plain": [
       "'residential_tract_built_far_outliers_thrown_out'"
      ]
     },
     "execution_count": 91,
     "metadata": {},
     "output_type": "execute_result"
    }
   ],
   "source": [
    "to_carto(residential_built_FAR_tract_gdf, 'residential_tract_built_FAR_outliers_thrown_out', geom_col ='geometry', if_exists='replace')\n"
   ]
  },
  {
   "cell_type": "markdown",
   "metadata": {},
   "source": [
    "### Import ACS race data at the tract level\n",
    "Chose to import at the tract rather than the block group level because this makes it easier to discern NYC trends"
   ]
  },
  {
   "cell_type": "code",
   "execution_count": 7,
   "metadata": {},
   "outputs": [],
   "source": [
    "# #Find the variable code for the race question I want to extract - long output\n",
    "# sample = censusdata.search('acs5', 2018,'concept', 'race')\n",
    "# print(len(sample))\n",
    "# print(sample)"
   ]
  },
  {
   "cell_type": "markdown",
   "metadata": {},
   "source": [
    "### B02001 has the race data\n",
    "\n",
    "B02001_001E - total surveyed population\n",
    "B02001_002E - number of people surveyed who identify as white\n",
    "https://data.census.gov/cedsci/table?q=race&tid=ACSDT1Y2019.B02001&hidePreview=false"
   ]
  },
  {
   "cell_type": "code",
   "execution_count": 93,
   "metadata": {},
   "outputs": [
    {
     "data": {
      "text/plain": [
       "OrderedDict([('B02001_001E',\n",
       "              {'label': 'Estimate!!Total',\n",
       "               'concept': 'RACE',\n",
       "               'predicateType': 'int'}),\n",
       "             ('B02001_002E',\n",
       "              {'label': 'Estimate!!Total!!White alone',\n",
       "               'concept': 'RACE',\n",
       "               'predicateType': 'int'}),\n",
       "             ('B02001_003E',\n",
       "              {'label': 'Estimate!!Total!!Black or African American alone',\n",
       "               'concept': 'RACE',\n",
       "               'predicateType': 'int'}),\n",
       "             ('B02001_004E',\n",
       "              {'label': 'Estimate!!Total!!American Indian and Alaska Native alone',\n",
       "               'concept': 'RACE',\n",
       "               'predicateType': 'int'}),\n",
       "             ('B02001_005E',\n",
       "              {'label': 'Estimate!!Total!!Asian alone',\n",
       "               'concept': 'RACE',\n",
       "               'predicateType': 'int'}),\n",
       "             ('B02001_006E',\n",
       "              {'label': 'Estimate!!Total!!Native Hawaiian and Other Pacific Islander alone',\n",
       "               'concept': 'RACE',\n",
       "               'predicateType': 'int'}),\n",
       "             ('B02001_007E',\n",
       "              {'label': 'Estimate!!Total!!Some other race alone',\n",
       "               'concept': 'RACE',\n",
       "               'predicateType': 'int'}),\n",
       "             ('B02001_008E',\n",
       "              {'label': 'Estimate!!Total!!Two or more races',\n",
       "               'concept': 'RACE',\n",
       "               'predicateType': 'int'}),\n",
       "             ('B02001_009E',\n",
       "              {'label': 'Estimate!!Total!!Two or more races!!Two races including Some other race',\n",
       "               'concept': 'RACE',\n",
       "               'predicateType': 'int'}),\n",
       "             ('B02001_010E',\n",
       "              {'label': 'Estimate!!Total!!Two or more races!!Two races excluding Some other race, and three or more races',\n",
       "               'concept': 'RACE',\n",
       "               'predicateType': 'int'})])"
      ]
     },
     "execution_count": 93,
     "metadata": {},
     "output_type": "execute_result"
    }
   ],
   "source": [
    "censusdata.censustable('acs5', 2018, 'B02001')"
   ]
  },
  {
   "cell_type": "code",
   "execution_count": 94,
   "metadata": {},
   "outputs": [
    {
     "name": "stdout",
     "output_type": "stream",
     "text": [
      "There are 339 census tracts in BX county\n",
      "There are 288 census tracts in MN county\n",
      "There are 761 census tracts in BK county\n",
      "There are 669 census tracts in QN county\n",
      "There are 110 census tracts in SI county\n"
     ]
    },
    {
     "data": {
      "text/html": [
       "<div>\n",
       "<style scoped>\n",
       "    .dataframe tbody tr th:only-of-type {\n",
       "        vertical-align: middle;\n",
       "    }\n",
       "\n",
       "    .dataframe tbody tr th {\n",
       "        vertical-align: top;\n",
       "    }\n",
       "\n",
       "    .dataframe thead th {\n",
       "        text-align: right;\n",
       "    }\n",
       "</style>\n",
       "<table border=\"1\" class=\"dataframe\">\n",
       "  <thead>\n",
       "    <tr style=\"text-align: right;\">\n",
       "      <th></th>\n",
       "      <th>B02001_001E</th>\n",
       "      <th>B02001_002E</th>\n",
       "      <th>state</th>\n",
       "      <th>geography_name_str</th>\n",
       "      <th>county</th>\n",
       "      <th>tract</th>\n",
       "      <th>county_code</th>\n",
       "      <th>county_full_name</th>\n",
       "    </tr>\n",
       "  </thead>\n",
       "  <tbody>\n",
       "    <tr>\n",
       "      <th>0</th>\n",
       "      <td>4205</td>\n",
       "      <td>485</td>\n",
       "      <td>36</td>\n",
       "      <td>Census Tract 429.02, Bronx County, New York</td>\n",
       "      <td>005</td>\n",
       "      <td>042902</td>\n",
       "      <td>BX</td>\n",
       "      <td>Bronx</td>\n",
       "    </tr>\n",
       "    <tr>\n",
       "      <th>1</th>\n",
       "      <td>5885</td>\n",
       "      <td>2941</td>\n",
       "      <td>36</td>\n",
       "      <td>Census Tract 330, Bronx County, New York</td>\n",
       "      <td>005</td>\n",
       "      <td>033000</td>\n",
       "      <td>BX</td>\n",
       "      <td>Bronx</td>\n",
       "    </tr>\n",
       "    <tr>\n",
       "      <th>2</th>\n",
       "      <td>8054</td>\n",
       "      <td>779</td>\n",
       "      <td>36</td>\n",
       "      <td>Census Tract 358, Bronx County, New York</td>\n",
       "      <td>005</td>\n",
       "      <td>035800</td>\n",
       "      <td>BX</td>\n",
       "      <td>Bronx</td>\n",
       "    </tr>\n",
       "    <tr>\n",
       "      <th>3</th>\n",
       "      <td>4322</td>\n",
       "      <td>1122</td>\n",
       "      <td>36</td>\n",
       "      <td>Census Tract 371, Bronx County, New York</td>\n",
       "      <td>005</td>\n",
       "      <td>037100</td>\n",
       "      <td>BX</td>\n",
       "      <td>Bronx</td>\n",
       "    </tr>\n",
       "    <tr>\n",
       "      <th>4</th>\n",
       "      <td>4757</td>\n",
       "      <td>344</td>\n",
       "      <td>36</td>\n",
       "      <td>Census Tract 385, Bronx County, New York</td>\n",
       "      <td>005</td>\n",
       "      <td>038500</td>\n",
       "      <td>BX</td>\n",
       "      <td>Bronx</td>\n",
       "    </tr>\n",
       "  </tbody>\n",
       "</table>\n",
       "</div>"
      ],
      "text/plain": [
       "   B02001_001E  B02001_002E state  \\\n",
       "0         4205          485    36   \n",
       "1         5885         2941    36   \n",
       "2         8054          779    36   \n",
       "3         4322         1122    36   \n",
       "4         4757          344    36   \n",
       "\n",
       "                            geography_name_str county   tract county_code  \\\n",
       "0  Census Tract 429.02, Bronx County, New York    005  042902          BX   \n",
       "1     Census Tract 330, Bronx County, New York    005  033000          BX   \n",
       "2     Census Tract 358, Bronx County, New York    005  035800          BX   \n",
       "3     Census Tract 371, Bronx County, New York    005  037100          BX   \n",
       "4     Census Tract 385, Bronx County, New York    005  038500          BX   \n",
       "\n",
       "  county_full_name  \n",
       "0            Bronx  \n",
       "1            Bronx  \n",
       "2            Bronx  \n",
       "3            Bronx  \n",
       "4            Bronx  "
      ]
     },
     "metadata": {},
     "output_type": "display_data"
    }
   ],
   "source": [
    "'''\n",
    "Keep codes same as in MapPluto\n",
    "BX Bronx\n",
    "BK Brooklyn\n",
    "MN Manhattan\n",
    "QN Queens\n",
    "SI Staten Island\n",
    "'''\n",
    "\n",
    "#Census county codes for all New York counties\n",
    "counties = {'BX':'005', 'MN':'061', 'BK':'047', 'QN':'081', 'SI':'085'}\n",
    "counties_full = {'BX':'Bronx', 'MN':'Manhattan', 'BK':'Brooklyn', 'QN':'Queens', 'SI':'Staten Island'}\n",
    "\n",
    "ACS_data_by_county = {}\n",
    "for county_name, county_code in counties.items():\n",
    "    data = censusdata.download('acs5', 2018,\n",
    "               censusdata.censusgeo([('state', '36'),\n",
    "                                     ('county', county_code),\n",
    "                                    ('tract', '*')]),\n",
    "              ['B02001_001E','B02001_002E'])\n",
    "    print('There are {} census tracts in {} county'.format(data.shape[0], county_name))\n",
    "    \n",
    "    #Download returns a dataframe where index stores the geography info\n",
    "    data.reset_index(inplace = True)\n",
    "    data.rename(columns= {'index':'geocensus_object'}, inplace = True)\n",
    "    \n",
    "    #Index is a censusgeo object whose components can be accessed through .geo and .name\n",
    "    example_row = data.iloc[0]\n",
    "    geographies = [geo_code_tuple[0] for geo_code_tuple in example_row['geocensus_object'].geo]\n",
    "\n",
    "    for i in range(len(geographies)):\n",
    "        geography = geographies[i]\n",
    "        data[geography] = data.apply(lambda row: row['geocensus_object'].geo[i][1], axis = 1)\n",
    "        data['geography_name_str'] = data.apply(lambda row: row['geocensus_object'].name, axis = 1)\n",
    "    \n",
    "    #Drop the geocensus object\n",
    "    data.drop(columns = 'geocensus_object', inplace = True)\n",
    "    \n",
    "    #Add in borough code\n",
    "    data['county_code'] = county_name\n",
    "    data['county_full_name'] = counties_full[county_name]\n",
    "    \n",
    "    #Add cleaned data to dictionary to concatenate later\n",
    "    ACS_data_by_county[county_name] = data\n",
    "    \n",
    "ACS_df = pd.concat(list(ACS_data_by_county.values()), ignore_index = True, axis = 0, sort = False)\n",
    "display(ACS_df.head())"
   ]
  },
  {
   "cell_type": "code",
   "execution_count": 95,
   "metadata": {},
   "outputs": [
    {
     "data": {
      "text/html": [
       "<div>\n",
       "<style scoped>\n",
       "    .dataframe tbody tr th:only-of-type {\n",
       "        vertical-align: middle;\n",
       "    }\n",
       "\n",
       "    .dataframe tbody tr th {\n",
       "        vertical-align: top;\n",
       "    }\n",
       "\n",
       "    .dataframe thead th {\n",
       "        text-align: right;\n",
       "    }\n",
       "</style>\n",
       "<table border=\"1\" class=\"dataframe\">\n",
       "  <thead>\n",
       "    <tr style=\"text-align: right;\">\n",
       "      <th></th>\n",
       "      <th>total_households_surveyed</th>\n",
       "      <th>num_households_white</th>\n",
       "      <th>state</th>\n",
       "      <th>geography_name_str</th>\n",
       "      <th>county</th>\n",
       "      <th>tract</th>\n",
       "      <th>county_code</th>\n",
       "      <th>county_full_name</th>\n",
       "      <th>percent_white</th>\n",
       "      <th>percent_nonwhite</th>\n",
       "    </tr>\n",
       "  </thead>\n",
       "  <tbody>\n",
       "    <tr>\n",
       "      <th>0</th>\n",
       "      <td>4205</td>\n",
       "      <td>485</td>\n",
       "      <td>36</td>\n",
       "      <td>Census Tract 429.02, Bronx County, New York</td>\n",
       "      <td>005</td>\n",
       "      <td>042902</td>\n",
       "      <td>BX</td>\n",
       "      <td>Bronx</td>\n",
       "      <td>11.533888</td>\n",
       "      <td>88.466112</td>\n",
       "    </tr>\n",
       "    <tr>\n",
       "      <th>1</th>\n",
       "      <td>5885</td>\n",
       "      <td>2941</td>\n",
       "      <td>36</td>\n",
       "      <td>Census Tract 330, Bronx County, New York</td>\n",
       "      <td>005</td>\n",
       "      <td>033000</td>\n",
       "      <td>BX</td>\n",
       "      <td>Bronx</td>\n",
       "      <td>49.974511</td>\n",
       "      <td>50.025489</td>\n",
       "    </tr>\n",
       "    <tr>\n",
       "      <th>2</th>\n",
       "      <td>8054</td>\n",
       "      <td>779</td>\n",
       "      <td>36</td>\n",
       "      <td>Census Tract 358, Bronx County, New York</td>\n",
       "      <td>005</td>\n",
       "      <td>035800</td>\n",
       "      <td>BX</td>\n",
       "      <td>Bronx</td>\n",
       "      <td>9.672213</td>\n",
       "      <td>90.327787</td>\n",
       "    </tr>\n",
       "    <tr>\n",
       "      <th>3</th>\n",
       "      <td>4322</td>\n",
       "      <td>1122</td>\n",
       "      <td>36</td>\n",
       "      <td>Census Tract 371, Bronx County, New York</td>\n",
       "      <td>005</td>\n",
       "      <td>037100</td>\n",
       "      <td>BX</td>\n",
       "      <td>Bronx</td>\n",
       "      <td>25.960204</td>\n",
       "      <td>74.039796</td>\n",
       "    </tr>\n",
       "    <tr>\n",
       "      <th>4</th>\n",
       "      <td>4757</td>\n",
       "      <td>344</td>\n",
       "      <td>36</td>\n",
       "      <td>Census Tract 385, Bronx County, New York</td>\n",
       "      <td>005</td>\n",
       "      <td>038500</td>\n",
       "      <td>BX</td>\n",
       "      <td>Bronx</td>\n",
       "      <td>7.231448</td>\n",
       "      <td>92.768552</td>\n",
       "    </tr>\n",
       "  </tbody>\n",
       "</table>\n",
       "</div>"
      ],
      "text/plain": [
       "   total_households_surveyed  num_households_white state  \\\n",
       "0                       4205                   485    36   \n",
       "1                       5885                  2941    36   \n",
       "2                       8054                   779    36   \n",
       "3                       4322                  1122    36   \n",
       "4                       4757                   344    36   \n",
       "\n",
       "                            geography_name_str county   tract county_code  \\\n",
       "0  Census Tract 429.02, Bronx County, New York    005  042902          BX   \n",
       "1     Census Tract 330, Bronx County, New York    005  033000          BX   \n",
       "2     Census Tract 358, Bronx County, New York    005  035800          BX   \n",
       "3     Census Tract 371, Bronx County, New York    005  037100          BX   \n",
       "4     Census Tract 385, Bronx County, New York    005  038500          BX   \n",
       "\n",
       "  county_full_name  percent_white  percent_nonwhite  \n",
       "0            Bronx      11.533888         88.466112  \n",
       "1            Bronx      49.974511         50.025489  \n",
       "2            Bronx       9.672213         90.327787  \n",
       "3            Bronx      25.960204         74.039796  \n",
       "4            Bronx       7.231448         92.768552  "
      ]
     },
     "execution_count": 95,
     "metadata": {},
     "output_type": "execute_result"
    }
   ],
   "source": [
    "#Calculate the percent of people surveyed who identify as white v. non-white\n",
    "ACS_df.rename(columns = {'B02001_002E':'num_households_white', 'B02001_001E':'total_households_surveyed'}, inplace=True)\n",
    "ACS_df['percent_white'] = ACS_df['num_households_white']/ACS_df['total_households_surveyed']*100\n",
    "ACS_df['percent_nonwhite'] = 100-ACS_df['percent_white']\n",
    "\n",
    "ACS_df.head()"
   ]
  },
  {
   "cell_type": "code",
   "execution_count": 96,
   "metadata": {},
   "outputs": [],
   "source": [
    "#Drop the census tracts that don't have any households surveyed\n",
    "ACS_df = ACS_df[ACS_df['total_households_surveyed']!=0]"
   ]
  },
  {
   "cell_type": "code",
   "execution_count": 100,
   "metadata": {},
   "outputs": [],
   "source": [
    "# Label each census tract by whether majority of population surveyed is white or nonwhite\n",
    "ACS_df['majority_race'] = np.nan\n",
    "ACS_df.loc[ACS_df['percent_nonwhite'] >=50, 'majority_race'] = 'Non-white'\n",
    "ACS_df.loc[ACS_df['percent_nonwhite'] < 50, 'majority_race'] = 'White'\n"
   ]
  },
  {
   "cell_type": "code",
   "execution_count": 103,
   "metadata": {},
   "outputs": [
    {
     "data": {
      "text/html": [
       "<div>\n",
       "<style scoped>\n",
       "    .dataframe tbody tr th:only-of-type {\n",
       "        vertical-align: middle;\n",
       "    }\n",
       "\n",
       "    .dataframe tbody tr th {\n",
       "        vertical-align: top;\n",
       "    }\n",
       "\n",
       "    .dataframe thead th {\n",
       "        text-align: right;\n",
       "    }\n",
       "</style>\n",
       "<table border=\"1\" class=\"dataframe\">\n",
       "  <thead>\n",
       "    <tr style=\"text-align: right;\">\n",
       "      <th></th>\n",
       "      <th>total_households_surveyed</th>\n",
       "      <th>num_households_white</th>\n",
       "      <th>state</th>\n",
       "      <th>geography_name_str</th>\n",
       "      <th>county</th>\n",
       "      <th>tract</th>\n",
       "      <th>county_code</th>\n",
       "      <th>county_full_name</th>\n",
       "      <th>percent_white</th>\n",
       "      <th>percent_nonwhite</th>\n",
       "      <th>majority_race</th>\n",
       "    </tr>\n",
       "  </thead>\n",
       "  <tbody>\n",
       "  </tbody>\n",
       "</table>\n",
       "</div>"
      ],
      "text/plain": [
       "Empty DataFrame\n",
       "Columns: [total_households_surveyed, num_households_white, state, geography_name_str, county, tract, county_code, county_full_name, percent_white, percent_nonwhite, majority_race]\n",
       "Index: []"
      ]
     },
     "execution_count": 103,
     "metadata": {},
     "output_type": "execute_result"
    }
   ],
   "source": [
    "#Make sure calculation worked - should return empty df\n",
    "ACS_df[ACS_df['majority_race'].isna()]"
   ]
  },
  {
   "cell_type": "markdown",
   "metadata": {},
   "source": [
    "#### Load census tract shapefiles to merge with race data\n",
    "Source: https://www1.nyc.gov/site/planning/data-maps/open-data/districts-download-metadata.page\n",
    "\n",
    "I chose the ones where the shoreline is clipped to improve readability of map.\n"
   ]
  },
  {
   "cell_type": "code",
   "execution_count": 106,
   "metadata": {},
   "outputs": [
    {
     "name": "stdout",
     "output_type": "stream",
     "text": [
      "Current CRS was epsg:2263. Reprojecting to epsg:4326.\n"
     ]
    }
   ],
   "source": [
    "census_tract_gdf = gpd.read_file('raw_data/new_york_census_tracts_shoreline_clipped/nycb2010.shp')\n",
    "\n",
    "census_tract_gdf = to_epsg_4326(census_tract_gdf)"
   ]
  },
  {
   "cell_type": "code",
   "execution_count": 107,
   "metadata": {},
   "outputs": [
    {
     "name": "stdout",
     "output_type": "stream",
     "text": [
      "There are 888 census tracts that are missing population data (probably be the ones where no housesholds were surveyed). Dropping these.\n"
     ]
    }
   ],
   "source": [
    "#Merge census tracts shapefiles with ACS data using borough name and census tract ID (census tract ID is unique within borough)\n",
    "ACS_gdf = census_tract_gdf[['CT2010','BoroName','geometry']].merge(ACS_df, left_on = ['CT2010', 'BoroName'], right_on = ['tract', 'county_full_name'], how = 'left')\n",
    "\n",
    "#Check that the merge works for most (won't work for all)\n",
    "no_geometry = ACS_gdf[ACS_gdf['percent_nonwhite'].isna()]\n",
    "print(\"There are {} census tracts that are missing population data (probably be the ones where no housesholds were surveyed). Dropping these.\".format(no_geometry.shape[0]))\n",
    "\n",
    "ACS_gdf = ACS_gdf[~ACS_gdf['percent_nonwhite'].isna()]"
   ]
  },
  {
   "cell_type": "code",
   "execution_count": 108,
   "metadata": {},
   "outputs": [
    {
     "name": "stdout",
     "output_type": "stream",
     "text": [
      "Success! Data uploaded to table \"acs_race_gdf_tract\" correctly\n"
     ]
    },
    {
     "data": {
      "text/plain": [
       "'acs_race_gdf_tract'"
      ]
     },
     "execution_count": 108,
     "metadata": {},
     "output_type": "execute_result"
    }
   ],
   "source": [
    "to_carto(ACS_gdf[['num_households_white', 'total_households_surveyed', 'percent_white', 'percent_nonwhite','majority_race','geometry', 'BoroName', 'CT2010']], 'ACS_race_gdf_tract', if_exists='replace')\n"
   ]
  }
 ],
 "metadata": {
  "kernelspec": {
   "display_name": "carto_kernel",
   "language": "python",
   "name": "carto_kernel"
  },
  "language_info": {
   "codemirror_mode": {
    "name": "ipython",
    "version": 3
   },
   "file_extension": ".py",
   "mimetype": "text/x-python",
   "name": "python",
   "nbconvert_exporter": "python",
   "pygments_lexer": "ipython3",
   "version": "3.8.6"
  }
 },
 "nbformat": 4,
 "nbformat_minor": 2
}
