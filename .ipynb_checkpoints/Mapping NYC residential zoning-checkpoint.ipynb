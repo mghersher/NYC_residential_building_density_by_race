{
 "cells": [
  {
   "cell_type": "code",
   "execution_count": 75,
   "metadata": {},
   "outputs": [],
   "source": [
    "from cartoframes.auth import set_default_credentials\n",
    "from cartoframes.viz import Map, Layer, color_category_style, color_continuous_style, basic_style, size_continuous_style, basic_legend\n",
    "\n",
    "import geopandas as gpd\n",
    "import pandas as pd\n",
    "import fiona\n",
    "import numpy as np\n",
    "\n",
    "from matplotlib import pyplot as plt\n"
   ]
  },
  {
   "cell_type": "code",
   "execution_count": 2,
   "metadata": {},
   "outputs": [],
   "source": [
    "def to_epsg_4326(gdf):\n",
    "    '''\n",
    "    Checks CRS of geodataframe and convert it to epsg_4326 if not already that\n",
    "    Note: gdf.crs['init'] will now error, just do gdf.crs- https://geopandas.org/projections.html\n",
    "    '''\n",
    "    current_crs = gdf.crs\n",
    "    if current_crs == 'epsg:4326':\n",
    "        print('CRS was already epsg:4326')\n",
    "        return gdf\n",
    "    else:\n",
    "        print(\"Current CRS was {}. Reprojecting to epsg:4326.\".format(current_crs))\n",
    "        reprojected_gdf = gdf.to_crs(epsg=4326)\n",
    "        return reprojected_gdf\n",
    "        "
   ]
  },
  {
   "cell_type": "markdown",
   "metadata": {},
   "source": [
    "#### Load credentials to create maps in Carto"
   ]
  },
  {
   "cell_type": "code",
   "execution_count": 3,
   "metadata": {},
   "outputs": [],
   "source": [
    "set_default_credentials('credentials/carto_cred.json')"
   ]
  },
  {
   "cell_type": "markdown",
   "metadata": {},
   "source": [
    "#### Examine MapPluto zoning geodatabase to identify which layer to extract"
   ]
  },
  {
   "cell_type": "code",
   "execution_count": 4,
   "metadata": {},
   "outputs": [
    {
     "name": "stdout",
     "output_type": "stream",
     "text": [
      "['MapPLUTO_20v6_clipped', 'NOT_MAPPED_LOTS']\n"
     ]
    }
   ],
   "source": [
    "print(fiona.listlayers('raw_data/MapPluto/MapPLUTO_20v6.gdb'))\n"
   ]
  },
  {
   "cell_type": "markdown",
   "metadata": {},
   "source": [
    "#### Import zoning data from MapPluto\n",
    "MapPluto data dictionary - https://www1.nyc.gov/assets/planning/download/pdf/data-maps/open-data/pluto_datadictionary.pdf?v=20v6\n",
    "\n",
    "Important notes: A TOTAL BUILDING FLOOR AREA of zero can mean it is either not available or\n",
    "not applicable. If NUMBER OF BUILDINGS is greater than zero, then a TOTAL\n",
    "BUILDING FLOOR AREA of zero means it is not available."
   ]
  },
  {
   "cell_type": "code",
   "execution_count": 8,
   "metadata": {},
   "outputs": [
    {
     "name": "stdout",
     "output_type": "stream",
     "text": [
      "Current CRS was epsg:2263. Reprojecting to epsg:4326.\n",
      "There are 857195 tax lots in MapPluto\n"
     ]
    },
    {
     "data": {
      "text/html": [
       "<div>\n",
       "<style scoped>\n",
       "    .dataframe tbody tr th:only-of-type {\n",
       "        vertical-align: middle;\n",
       "    }\n",
       "\n",
       "    .dataframe tbody tr th {\n",
       "        vertical-align: top;\n",
       "    }\n",
       "\n",
       "    .dataframe thead th {\n",
       "        text-align: right;\n",
       "    }\n",
       "</style>\n",
       "<table border=\"1\" class=\"dataframe\">\n",
       "  <thead>\n",
       "    <tr style=\"text-align: right;\">\n",
       "      <th></th>\n",
       "      <th>Borough</th>\n",
       "      <th>Block</th>\n",
       "      <th>Lot</th>\n",
       "      <th>CD</th>\n",
       "      <th>CT2010</th>\n",
       "      <th>CB2010</th>\n",
       "      <th>SchoolDist</th>\n",
       "      <th>Council</th>\n",
       "      <th>ZipCode</th>\n",
       "      <th>FireComp</th>\n",
       "      <th>...</th>\n",
       "      <th>FIRM07_FLAG</th>\n",
       "      <th>PFIRM15_FLAG</th>\n",
       "      <th>Version</th>\n",
       "      <th>DCPEdited</th>\n",
       "      <th>Latitude</th>\n",
       "      <th>Longitude</th>\n",
       "      <th>Notes</th>\n",
       "      <th>Shape_Leng</th>\n",
       "      <th>Shape_Area</th>\n",
       "      <th>geometry</th>\n",
       "    </tr>\n",
       "  </thead>\n",
       "  <tbody>\n",
       "    <tr>\n",
       "      <th>0</th>\n",
       "      <td>MN</td>\n",
       "      <td>1</td>\n",
       "      <td>10</td>\n",
       "      <td>101.0</td>\n",
       "      <td>5</td>\n",
       "      <td>1000</td>\n",
       "      <td>02</td>\n",
       "      <td>1.0</td>\n",
       "      <td>10004.0</td>\n",
       "      <td>E007</td>\n",
       "      <td>...</td>\n",
       "      <td>1</td>\n",
       "      <td>1</td>\n",
       "      <td>20v6</td>\n",
       "      <td>None</td>\n",
       "      <td>40.688799</td>\n",
       "      <td>-74.018675</td>\n",
       "      <td>None</td>\n",
       "      <td>0.0</td>\n",
       "      <td>7.550339e+06</td>\n",
       "      <td>MULTIPOLYGON (((-74.02240 40.68442, -74.02404 ...</td>\n",
       "    </tr>\n",
       "    <tr>\n",
       "      <th>1</th>\n",
       "      <td>MN</td>\n",
       "      <td>1</td>\n",
       "      <td>101</td>\n",
       "      <td>101.0</td>\n",
       "      <td>1</td>\n",
       "      <td>1001</td>\n",
       "      <td>02</td>\n",
       "      <td>1.0</td>\n",
       "      <td>10004.0</td>\n",
       "      <td>E007</td>\n",
       "      <td>...</td>\n",
       "      <td>None</td>\n",
       "      <td>1</td>\n",
       "      <td>20v6</td>\n",
       "      <td>None</td>\n",
       "      <td>40.689920</td>\n",
       "      <td>-74.045337</td>\n",
       "      <td>None</td>\n",
       "      <td>0.0</td>\n",
       "      <td>5.018973e+05</td>\n",
       "      <td>MULTIPOLYGON (((-74.04270 40.69006, -74.04263 ...</td>\n",
       "    </tr>\n",
       "    <tr>\n",
       "      <th>2</th>\n",
       "      <td>MN</td>\n",
       "      <td>1</td>\n",
       "      <td>201</td>\n",
       "      <td>101.0</td>\n",
       "      <td>1</td>\n",
       "      <td>1000</td>\n",
       "      <td>02</td>\n",
       "      <td>NaN</td>\n",
       "      <td>10004.0</td>\n",
       "      <td>None</td>\n",
       "      <td>...</td>\n",
       "      <td>None</td>\n",
       "      <td>1</td>\n",
       "      <td>20v6</td>\n",
       "      <td>None</td>\n",
       "      <td>40.698188</td>\n",
       "      <td>-74.041329</td>\n",
       "      <td>None</td>\n",
       "      <td>0.0</td>\n",
       "      <td>1.148539e+06</td>\n",
       "      <td>MULTIPOLYGON (((-74.03823 40.69837, -74.03823 ...</td>\n",
       "    </tr>\n",
       "    <tr>\n",
       "      <th>3</th>\n",
       "      <td>MN</td>\n",
       "      <td>2</td>\n",
       "      <td>1</td>\n",
       "      <td>101.0</td>\n",
       "      <td>9</td>\n",
       "      <td>1025</td>\n",
       "      <td>02</td>\n",
       "      <td>1.0</td>\n",
       "      <td>10004.0</td>\n",
       "      <td>L015</td>\n",
       "      <td>...</td>\n",
       "      <td>1</td>\n",
       "      <td>1</td>\n",
       "      <td>20v6</td>\n",
       "      <td>t</td>\n",
       "      <td>40.700369</td>\n",
       "      <td>-74.012911</td>\n",
       "      <td>None</td>\n",
       "      <td>0.0</td>\n",
       "      <td>1.008250e+05</td>\n",
       "      <td>MULTIPOLYGON (((-74.01302 40.69976, -74.01313 ...</td>\n",
       "    </tr>\n",
       "    <tr>\n",
       "      <th>4</th>\n",
       "      <td>MN</td>\n",
       "      <td>2</td>\n",
       "      <td>2</td>\n",
       "      <td>101.0</td>\n",
       "      <td>9</td>\n",
       "      <td>1025</td>\n",
       "      <td>02</td>\n",
       "      <td>1.0</td>\n",
       "      <td>10004.0</td>\n",
       "      <td>L015</td>\n",
       "      <td>...</td>\n",
       "      <td>1</td>\n",
       "      <td>1</td>\n",
       "      <td>20v6</td>\n",
       "      <td>None</td>\n",
       "      <td>40.700550</td>\n",
       "      <td>-74.011588</td>\n",
       "      <td>None</td>\n",
       "      <td>0.0</td>\n",
       "      <td>8.724425e+04</td>\n",
       "      <td>MULTIPOLYGON (((-74.01203 40.70004, -74.01246 ...</td>\n",
       "    </tr>\n",
       "  </tbody>\n",
       "</table>\n",
       "<p>5 rows × 93 columns</p>\n",
       "</div>"
      ],
      "text/plain": [
       "  Borough  Block  Lot     CD CT2010 CB2010 SchoolDist  Council  ZipCode  \\\n",
       "0      MN      1   10  101.0      5   1000         02      1.0  10004.0   \n",
       "1      MN      1  101  101.0      1   1001         02      1.0  10004.0   \n",
       "2      MN      1  201  101.0      1   1000         02      NaN  10004.0   \n",
       "3      MN      2    1  101.0      9   1025         02      1.0  10004.0   \n",
       "4      MN      2    2  101.0      9   1025         02      1.0  10004.0   \n",
       "\n",
       "  FireComp  ...  FIRM07_FLAG  PFIRM15_FLAG  Version DCPEdited   Latitude  \\\n",
       "0     E007  ...            1             1     20v6      None  40.688799   \n",
       "1     E007  ...         None             1     20v6      None  40.689920   \n",
       "2     None  ...         None             1     20v6      None  40.698188   \n",
       "3     L015  ...            1             1     20v6         t  40.700369   \n",
       "4     L015  ...            1             1     20v6      None  40.700550   \n",
       "\n",
       "   Longitude Notes Shape_Leng    Shape_Area  \\\n",
       "0 -74.018675  None        0.0  7.550339e+06   \n",
       "1 -74.045337  None        0.0  5.018973e+05   \n",
       "2 -74.041329  None        0.0  1.148539e+06   \n",
       "3 -74.012911  None        0.0  1.008250e+05   \n",
       "4 -74.011588  None        0.0  8.724425e+04   \n",
       "\n",
       "                                            geometry  \n",
       "0  MULTIPOLYGON (((-74.02240 40.68442, -74.02404 ...  \n",
       "1  MULTIPOLYGON (((-74.04270 40.69006, -74.04263 ...  \n",
       "2  MULTIPOLYGON (((-74.03823 40.69837, -74.03823 ...  \n",
       "3  MULTIPOLYGON (((-74.01302 40.69976, -74.01313 ...  \n",
       "4  MULTIPOLYGON (((-74.01203 40.70004, -74.01246 ...  \n",
       "\n",
       "[5 rows x 93 columns]"
      ]
     },
     "metadata": {},
     "output_type": "display_data"
    },
    {
     "data": {
      "text/html": [
       "<div>\n",
       "<style scoped>\n",
       "    .dataframe tbody tr th:only-of-type {\n",
       "        vertical-align: middle;\n",
       "    }\n",
       "\n",
       "    .dataframe tbody tr th {\n",
       "        vertical-align: top;\n",
       "    }\n",
       "\n",
       "    .dataframe thead th {\n",
       "        text-align: right;\n",
       "    }\n",
       "</style>\n",
       "<table border=\"1\" class=\"dataframe\">\n",
       "  <thead>\n",
       "    <tr style=\"text-align: right;\">\n",
       "      <th></th>\n",
       "      <th>land_use_id</th>\n",
       "      <th>land_use_description</th>\n",
       "    </tr>\n",
       "  </thead>\n",
       "  <tbody>\n",
       "    <tr>\n",
       "      <th>0</th>\n",
       "      <td>01</td>\n",
       "      <td>One &amp; Two Family Buildings</td>\n",
       "    </tr>\n",
       "    <tr>\n",
       "      <th>1</th>\n",
       "      <td>02</td>\n",
       "      <td>Multi-Family Walk-Up Buildings</td>\n",
       "    </tr>\n",
       "    <tr>\n",
       "      <th>2</th>\n",
       "      <td>03</td>\n",
       "      <td>Multi-Family Elevator Buildings</td>\n",
       "    </tr>\n",
       "    <tr>\n",
       "      <th>3</th>\n",
       "      <td>04</td>\n",
       "      <td>Mixed Residential &amp; Commercial Buildings</td>\n",
       "    </tr>\n",
       "    <tr>\n",
       "      <th>4</th>\n",
       "      <td>05</td>\n",
       "      <td>Commercial &amp; Office Buildings</td>\n",
       "    </tr>\n",
       "    <tr>\n",
       "      <th>5</th>\n",
       "      <td>06</td>\n",
       "      <td>Industrial &amp; Manufacturing</td>\n",
       "    </tr>\n",
       "    <tr>\n",
       "      <th>6</th>\n",
       "      <td>07</td>\n",
       "      <td>Transportation &amp; Utility</td>\n",
       "    </tr>\n",
       "    <tr>\n",
       "      <th>7</th>\n",
       "      <td>08</td>\n",
       "      <td>Public Facilities &amp; Institutions</td>\n",
       "    </tr>\n",
       "    <tr>\n",
       "      <th>8</th>\n",
       "      <td>09</td>\n",
       "      <td>Open Space &amp; Outdoor Recreation</td>\n",
       "    </tr>\n",
       "    <tr>\n",
       "      <th>9</th>\n",
       "      <td>10</td>\n",
       "      <td>Parking Facilities</td>\n",
       "    </tr>\n",
       "    <tr>\n",
       "      <th>10</th>\n",
       "      <td>11</td>\n",
       "      <td>Vacant Land</td>\n",
       "    </tr>\n",
       "  </tbody>\n",
       "</table>\n",
       "</div>"
      ],
      "text/plain": [
       "   land_use_id                      land_use_description\n",
       "0           01                One & Two Family Buildings\n",
       "1           02            Multi-Family Walk-Up Buildings\n",
       "2           03           Multi-Family Elevator Buildings\n",
       "3           04  Mixed Residential & Commercial Buildings\n",
       "4           05             Commercial & Office Buildings\n",
       "5           06                Industrial & Manufacturing\n",
       "6           07                  Transportation & Utility\n",
       "7           08          Public Facilities & Institutions\n",
       "8           09           Open Space & Outdoor Recreation\n",
       "9           10                        Parking Facilities\n",
       "10          11                               Vacant Land"
      ]
     },
     "metadata": {},
     "output_type": "display_data"
    },
    {
     "data": {
      "text/html": [
       "<div>\n",
       "<style scoped>\n",
       "    .dataframe tbody tr th:only-of-type {\n",
       "        vertical-align: middle;\n",
       "    }\n",
       "\n",
       "    .dataframe tbody tr th {\n",
       "        vertical-align: top;\n",
       "    }\n",
       "\n",
       "    .dataframe thead th {\n",
       "        text-align: right;\n",
       "    }\n",
       "</style>\n",
       "<table border=\"1\" class=\"dataframe\">\n",
       "  <thead>\n",
       "    <tr style=\"text-align: right;\">\n",
       "      <th></th>\n",
       "      <th>LandUse</th>\n",
       "      <th>land_use_description</th>\n",
       "    </tr>\n",
       "  </thead>\n",
       "  <tbody>\n",
       "    <tr>\n",
       "      <th>0</th>\n",
       "      <td>08</td>\n",
       "      <td>Public Facilities &amp; Institutions</td>\n",
       "    </tr>\n",
       "    <tr>\n",
       "      <th>1</th>\n",
       "      <td>08</td>\n",
       "      <td>Public Facilities &amp; Institutions</td>\n",
       "    </tr>\n",
       "    <tr>\n",
       "      <th>2</th>\n",
       "      <td>None</td>\n",
       "      <td>NaN</td>\n",
       "    </tr>\n",
       "    <tr>\n",
       "      <th>3</th>\n",
       "      <td>07</td>\n",
       "      <td>Transportation &amp; Utility</td>\n",
       "    </tr>\n",
       "    <tr>\n",
       "      <th>4</th>\n",
       "      <td>07</td>\n",
       "      <td>Transportation &amp; Utility</td>\n",
       "    </tr>\n",
       "  </tbody>\n",
       "</table>\n",
       "</div>"
      ],
      "text/plain": [
       "  LandUse              land_use_description\n",
       "0      08  Public Facilities & Institutions\n",
       "1      08  Public Facilities & Institutions\n",
       "2    None                               NaN\n",
       "3      07          Transportation & Utility\n",
       "4      07          Transportation & Utility"
      ]
     },
     "metadata": {},
     "output_type": "display_data"
    }
   ],
   "source": [
    "mappluto = gpd.read_file(\"raw_data/MapPluto/MapPLUTO_20v6.gdb\", driver='FileGDB', layer='MapPLUTO_20v6_clipped')\n",
    "\n",
    "#Project\n",
    "mappluto = to_epsg_4326(mappluto)\n",
    "print(\"There are {} tax lots in MapPluto\".format(mappluto.shape[0]))\n",
    "display(mappluto.head())\n",
    "\n",
    "#Merge in the description of each land use numeric id\n",
    "land_use_descriptions = ['One & Two Family Buildings', 'Multi-Family Walk-Up Buildings', 'Multi-Family Elevator Buildings', 'Mixed Residential & Commercial Buildings', 'Commercial & Office Buildings', 'Industrial & Manufacturing', 'Transportation & Utility', 'Public Facilities & Institutions', 'Open Space & Outdoor Recreation', 'Parking Facilities', 'Vacant Land']\n",
    "land_use_ids = list(range(1,len(land_use_descriptions)+1))\n",
    "land_use_ids = ['0' + str(val) if len(str(val))==1 else str(val) for val in land_use_ids]\n",
    "land_use_dict = pd.DataFrame({'land_use_id':land_use_ids, 'land_use_description':land_use_descriptions})\n",
    "display(land_use_dict)\n",
    "\n",
    "#Merge in landuse descriptions\n",
    "mappluto = mappluto.merge(land_use_dict, left_on = 'LandUse', right_on = 'land_use_id', how = 'left')\n",
    "display(mappluto[['LandUse', 'land_use_description']].head())\n",
    "\n",
    "#Replace lots missing land use categorization with 'Not defined'\n",
    "mappluto.loc[mappluto['LandUse'].isna(), 'land_use_description'] = \"Not defined\""
   ]
  },
  {
   "cell_type": "markdown",
   "metadata": {},
   "source": [
    "#### Check understanding of MapPluto documentation"
   ]
  },
  {
   "cell_type": "code",
   "execution_count": 13,
   "metadata": {},
   "outputs": [],
   "source": [
    "num_tax_lots = mappluto.shape[0]"
   ]
  },
  {
   "cell_type": "markdown",
   "metadata": {},
   "source": [
    "#### How many tax lots are there that fall into more than one zoning districts?"
   ]
  },
  {
   "cell_type": "code",
   "execution_count": 15,
   "metadata": {},
   "outputs": [
    {
     "name": "stdout",
     "output_type": "stream",
     "text": [
      "2.3330747379534413% of tax lots fall into multiple zoning districts\n"
     ]
    }
   ],
   "source": [
    "print(\"{}% of tax lots fall into multiple zoning districts\".format(mappluto[mappluto['SplitZone']=='Y'].shape[0]/num_tax_lots*100))"
   ]
  },
  {
   "cell_type": "markdown",
   "metadata": {},
   "source": [
    "#### Are there any tax lots that only fall in one zoning lot that have multiple categories of allowable FAR (ie. Residential, commercial, and community facility)"
   ]
  },
  {
   "cell_type": "code",
   "execution_count": 19,
   "metadata": {},
   "outputs": [
    {
     "data": {
      "text/plain": [
       "count    857195.000000\n",
       "mean          1.315858\n",
       "std           1.396849\n",
       "min           0.000000\n",
       "25%           0.500000\n",
       "50%           0.750000\n",
       "75%           2.000000\n",
       "max          10.000000\n",
       "Name: ResidFAR, dtype: float64"
      ]
     },
     "execution_count": 19,
     "metadata": {},
     "output_type": "execute_result"
    }
   ],
   "source": [
    "mappluto['ResidFAR'].describe()"
   ]
  },
  {
   "cell_type": "code",
   "execution_count": 25,
   "metadata": {},
   "outputs": [
    {
     "data": {
      "text/plain": [
       "0          1.5\n",
       "1          1.5\n",
       "2          0.0\n",
       "3          8.5\n",
       "4         23.4\n",
       "          ... \n",
       "857190     1.5\n",
       "857191     1.5\n",
       "857192     1.5\n",
       "857193     1.5\n",
       "857194     1.5\n",
       "Length: 857195, dtype: float64"
      ]
     },
     "execution_count": 25,
     "metadata": {},
     "output_type": "execute_result"
    }
   ],
   "source": [
    "mappluto[['ResidFAR', 'CommFAR', 'FacilFAR']].sum(axis = 1)"
   ]
  },
  {
   "cell_type": "code",
   "execution_count": 31,
   "metadata": {},
   "outputs": [],
   "source": [
    "#Count number of types of allowable FARs each lot has\n",
    "mappluto['num_allowable_FARs'] = pd.concat([(mappluto['ResidFAR']!=0),(mappluto['CommFAR']!=0),(mappluto['FacilFAR']!=0)], axis =1).sum(axis=1)"
   ]
  },
  {
   "cell_type": "code",
   "execution_count": 39,
   "metadata": {},
   "outputs": [],
   "source": [
    "helpful_columns = ['ZoneDist1', 'ZoneDist2', 'ZoneDist3', 'ZoneDist4', 'BldgClass', 'LandUse','land_use_description', 'ResidFAR', 'CommFAR', 'FacilFAR','BldgArea', 'ComArea', 'ResArea', 'OfficeArea', 'RetailArea', 'GarageArea','StrgeArea', 'FactryArea']"
   ]
  },
  {
   "cell_type": "code",
   "execution_count": 40,
   "metadata": {},
   "outputs": [
    {
     "data": {
      "text/html": [
       "<div>\n",
       "<style scoped>\n",
       "    .dataframe tbody tr th:only-of-type {\n",
       "        vertical-align: middle;\n",
       "    }\n",
       "\n",
       "    .dataframe tbody tr th {\n",
       "        vertical-align: top;\n",
       "    }\n",
       "\n",
       "    .dataframe thead th {\n",
       "        text-align: right;\n",
       "    }\n",
       "</style>\n",
       "<table border=\"1\" class=\"dataframe\">\n",
       "  <thead>\n",
       "    <tr style=\"text-align: right;\">\n",
       "      <th></th>\n",
       "      <th>ZoneDist1</th>\n",
       "      <th>ZoneDist2</th>\n",
       "      <th>ZoneDist3</th>\n",
       "      <th>ZoneDist4</th>\n",
       "      <th>BldgClass</th>\n",
       "      <th>LandUse</th>\n",
       "      <th>land_use_description</th>\n",
       "      <th>ResidFAR</th>\n",
       "      <th>CommFAR</th>\n",
       "      <th>FacilFAR</th>\n",
       "      <th>BldgArea</th>\n",
       "      <th>ComArea</th>\n",
       "      <th>ResArea</th>\n",
       "      <th>OfficeArea</th>\n",
       "      <th>RetailArea</th>\n",
       "      <th>GarageArea</th>\n",
       "      <th>StrgeArea</th>\n",
       "      <th>FactryArea</th>\n",
       "    </tr>\n",
       "  </thead>\n",
       "  <tbody>\n",
       "    <tr>\n",
       "      <th>0</th>\n",
       "      <td>R3-2</td>\n",
       "      <td>None</td>\n",
       "      <td>None</td>\n",
       "      <td>None</td>\n",
       "      <td>Y4</td>\n",
       "      <td>08</td>\n",
       "      <td>Public Facilities &amp; Institutions</td>\n",
       "      <td>0.5</td>\n",
       "      <td>0.0</td>\n",
       "      <td>1.0</td>\n",
       "      <td>2725731.0</td>\n",
       "      <td>2725731.0</td>\n",
       "      <td>0.0</td>\n",
       "      <td>0.0</td>\n",
       "      <td>0.0</td>\n",
       "      <td>0.0</td>\n",
       "      <td>0.0</td>\n",
       "      <td>0.0</td>\n",
       "    </tr>\n",
       "    <tr>\n",
       "      <th>1</th>\n",
       "      <td>R3-2</td>\n",
       "      <td>None</td>\n",
       "      <td>None</td>\n",
       "      <td>None</td>\n",
       "      <td>P7</td>\n",
       "      <td>08</td>\n",
       "      <td>Public Facilities &amp; Institutions</td>\n",
       "      <td>0.5</td>\n",
       "      <td>0.0</td>\n",
       "      <td>1.0</td>\n",
       "      <td>541886.0</td>\n",
       "      <td>541886.0</td>\n",
       "      <td>0.0</td>\n",
       "      <td>0.0</td>\n",
       "      <td>0.0</td>\n",
       "      <td>0.0</td>\n",
       "      <td>0.0</td>\n",
       "      <td>0.0</td>\n",
       "    </tr>\n",
       "    <tr>\n",
       "      <th>3</th>\n",
       "      <td>M1-4</td>\n",
       "      <td>None</td>\n",
       "      <td>None</td>\n",
       "      <td>None</td>\n",
       "      <td>Y7</td>\n",
       "      <td>07</td>\n",
       "      <td>Transportation &amp; Utility</td>\n",
       "      <td>0.0</td>\n",
       "      <td>2.0</td>\n",
       "      <td>6.5</td>\n",
       "      <td>280000.0</td>\n",
       "      <td>280000.0</td>\n",
       "      <td>0.0</td>\n",
       "      <td>0.0</td>\n",
       "      <td>0.0</td>\n",
       "      <td>0.0</td>\n",
       "      <td>0.0</td>\n",
       "      <td>0.0</td>\n",
       "    </tr>\n",
       "    <tr>\n",
       "      <th>4</th>\n",
       "      <td>C4-6</td>\n",
       "      <td>None</td>\n",
       "      <td>None</td>\n",
       "      <td>None</td>\n",
       "      <td>Y7</td>\n",
       "      <td>07</td>\n",
       "      <td>Transportation &amp; Utility</td>\n",
       "      <td>10.0</td>\n",
       "      <td>3.4</td>\n",
       "      <td>10.0</td>\n",
       "      <td>158197.0</td>\n",
       "      <td>158197.0</td>\n",
       "      <td>0.0</td>\n",
       "      <td>0.0</td>\n",
       "      <td>0.0</td>\n",
       "      <td>0.0</td>\n",
       "      <td>0.0</td>\n",
       "      <td>0.0</td>\n",
       "    </tr>\n",
       "    <tr>\n",
       "      <th>5</th>\n",
       "      <td>C4-6</td>\n",
       "      <td>None</td>\n",
       "      <td>None</td>\n",
       "      <td>None</td>\n",
       "      <td>Y7</td>\n",
       "      <td>07</td>\n",
       "      <td>Transportation &amp; Utility</td>\n",
       "      <td>10.0</td>\n",
       "      <td>3.4</td>\n",
       "      <td>10.0</td>\n",
       "      <td>7500.0</td>\n",
       "      <td>7500.0</td>\n",
       "      <td>0.0</td>\n",
       "      <td>0.0</td>\n",
       "      <td>0.0</td>\n",
       "      <td>0.0</td>\n",
       "      <td>0.0</td>\n",
       "      <td>0.0</td>\n",
       "    </tr>\n",
       "    <tr>\n",
       "      <th>...</th>\n",
       "      <td>...</td>\n",
       "      <td>...</td>\n",
       "      <td>...</td>\n",
       "      <td>...</td>\n",
       "      <td>...</td>\n",
       "      <td>...</td>\n",
       "      <td>...</td>\n",
       "      <td>...</td>\n",
       "      <td>...</td>\n",
       "      <td>...</td>\n",
       "      <td>...</td>\n",
       "      <td>...</td>\n",
       "      <td>...</td>\n",
       "      <td>...</td>\n",
       "      <td>...</td>\n",
       "      <td>...</td>\n",
       "      <td>...</td>\n",
       "      <td>...</td>\n",
       "    </tr>\n",
       "    <tr>\n",
       "      <th>857190</th>\n",
       "      <td>R1-2</td>\n",
       "      <td>None</td>\n",
       "      <td>None</td>\n",
       "      <td>None</td>\n",
       "      <td>A1</td>\n",
       "      <td>01</td>\n",
       "      <td>One &amp; Two Family Buildings</td>\n",
       "      <td>0.5</td>\n",
       "      <td>0.0</td>\n",
       "      <td>1.0</td>\n",
       "      <td>1624.0</td>\n",
       "      <td>0.0</td>\n",
       "      <td>1624.0</td>\n",
       "      <td>0.0</td>\n",
       "      <td>0.0</td>\n",
       "      <td>0.0</td>\n",
       "      <td>0.0</td>\n",
       "      <td>0.0</td>\n",
       "    </tr>\n",
       "    <tr>\n",
       "      <th>857191</th>\n",
       "      <td>R1-2</td>\n",
       "      <td>None</td>\n",
       "      <td>None</td>\n",
       "      <td>None</td>\n",
       "      <td>A1</td>\n",
       "      <td>01</td>\n",
       "      <td>One &amp; Two Family Buildings</td>\n",
       "      <td>0.5</td>\n",
       "      <td>0.0</td>\n",
       "      <td>1.0</td>\n",
       "      <td>2057.0</td>\n",
       "      <td>0.0</td>\n",
       "      <td>2057.0</td>\n",
       "      <td>0.0</td>\n",
       "      <td>0.0</td>\n",
       "      <td>0.0</td>\n",
       "      <td>0.0</td>\n",
       "      <td>0.0</td>\n",
       "    </tr>\n",
       "    <tr>\n",
       "      <th>857192</th>\n",
       "      <td>R1-2</td>\n",
       "      <td>None</td>\n",
       "      <td>None</td>\n",
       "      <td>None</td>\n",
       "      <td>A1</td>\n",
       "      <td>01</td>\n",
       "      <td>One &amp; Two Family Buildings</td>\n",
       "      <td>0.5</td>\n",
       "      <td>0.0</td>\n",
       "      <td>1.0</td>\n",
       "      <td>1728.0</td>\n",
       "      <td>0.0</td>\n",
       "      <td>1728.0</td>\n",
       "      <td>0.0</td>\n",
       "      <td>0.0</td>\n",
       "      <td>0.0</td>\n",
       "      <td>0.0</td>\n",
       "      <td>0.0</td>\n",
       "    </tr>\n",
       "    <tr>\n",
       "      <th>857193</th>\n",
       "      <td>R1-2</td>\n",
       "      <td>None</td>\n",
       "      <td>None</td>\n",
       "      <td>None</td>\n",
       "      <td>A1</td>\n",
       "      <td>01</td>\n",
       "      <td>One &amp; Two Family Buildings</td>\n",
       "      <td>0.5</td>\n",
       "      <td>0.0</td>\n",
       "      <td>1.0</td>\n",
       "      <td>1408.0</td>\n",
       "      <td>0.0</td>\n",
       "      <td>1408.0</td>\n",
       "      <td>0.0</td>\n",
       "      <td>0.0</td>\n",
       "      <td>0.0</td>\n",
       "      <td>0.0</td>\n",
       "      <td>0.0</td>\n",
       "    </tr>\n",
       "    <tr>\n",
       "      <th>857194</th>\n",
       "      <td>R1-2</td>\n",
       "      <td>None</td>\n",
       "      <td>None</td>\n",
       "      <td>None</td>\n",
       "      <td>A1</td>\n",
       "      <td>01</td>\n",
       "      <td>One &amp; Two Family Buildings</td>\n",
       "      <td>0.5</td>\n",
       "      <td>0.0</td>\n",
       "      <td>1.0</td>\n",
       "      <td>1768.0</td>\n",
       "      <td>0.0</td>\n",
       "      <td>1768.0</td>\n",
       "      <td>0.0</td>\n",
       "      <td>0.0</td>\n",
       "      <td>0.0</td>\n",
       "      <td>0.0</td>\n",
       "      <td>0.0</td>\n",
       "    </tr>\n",
       "  </tbody>\n",
       "</table>\n",
       "<p>830329 rows × 18 columns</p>\n",
       "</div>"
      ],
      "text/plain": [
       "       ZoneDist1 ZoneDist2 ZoneDist3 ZoneDist4 BldgClass LandUse  \\\n",
       "0           R3-2      None      None      None        Y4      08   \n",
       "1           R3-2      None      None      None        P7      08   \n",
       "3           M1-4      None      None      None        Y7      07   \n",
       "4           C4-6      None      None      None        Y7      07   \n",
       "5           C4-6      None      None      None        Y7      07   \n",
       "...          ...       ...       ...       ...       ...     ...   \n",
       "857190      R1-2      None      None      None        A1      01   \n",
       "857191      R1-2      None      None      None        A1      01   \n",
       "857192      R1-2      None      None      None        A1      01   \n",
       "857193      R1-2      None      None      None        A1      01   \n",
       "857194      R1-2      None      None      None        A1      01   \n",
       "\n",
       "                    land_use_description  ResidFAR  CommFAR  FacilFAR  \\\n",
       "0       Public Facilities & Institutions       0.5      0.0       1.0   \n",
       "1       Public Facilities & Institutions       0.5      0.0       1.0   \n",
       "3               Transportation & Utility       0.0      2.0       6.5   \n",
       "4               Transportation & Utility      10.0      3.4      10.0   \n",
       "5               Transportation & Utility      10.0      3.4      10.0   \n",
       "...                                  ...       ...      ...       ...   \n",
       "857190        One & Two Family Buildings       0.5      0.0       1.0   \n",
       "857191        One & Two Family Buildings       0.5      0.0       1.0   \n",
       "857192        One & Two Family Buildings       0.5      0.0       1.0   \n",
       "857193        One & Two Family Buildings       0.5      0.0       1.0   \n",
       "857194        One & Two Family Buildings       0.5      0.0       1.0   \n",
       "\n",
       "         BldgArea    ComArea  ResArea  OfficeArea  RetailArea  GarageArea  \\\n",
       "0       2725731.0  2725731.0      0.0         0.0         0.0         0.0   \n",
       "1        541886.0   541886.0      0.0         0.0         0.0         0.0   \n",
       "3        280000.0   280000.0      0.0         0.0         0.0         0.0   \n",
       "4        158197.0   158197.0      0.0         0.0         0.0         0.0   \n",
       "5          7500.0     7500.0      0.0         0.0         0.0         0.0   \n",
       "...           ...        ...      ...         ...         ...         ...   \n",
       "857190     1624.0        0.0   1624.0         0.0         0.0         0.0   \n",
       "857191     2057.0        0.0   2057.0         0.0         0.0         0.0   \n",
       "857192     1728.0        0.0   1728.0         0.0         0.0         0.0   \n",
       "857193     1408.0        0.0   1408.0         0.0         0.0         0.0   \n",
       "857194     1768.0        0.0   1768.0         0.0         0.0         0.0   \n",
       "\n",
       "        StrgeArea  FactryArea  \n",
       "0             0.0         0.0  \n",
       "1             0.0         0.0  \n",
       "3             0.0         0.0  \n",
       "4             0.0         0.0  \n",
       "5             0.0         0.0  \n",
       "...           ...         ...  \n",
       "857190        0.0         0.0  \n",
       "857191        0.0         0.0  \n",
       "857192        0.0         0.0  \n",
       "857193        0.0         0.0  \n",
       "857194        0.0         0.0  \n",
       "\n",
       "[830329 rows x 18 columns]"
      ]
     },
     "execution_count": 40,
     "metadata": {},
     "output_type": "execute_result"
    }
   ],
   "source": [
    "mappluto[(mappluto['SplitZone']=='N') & (mappluto['num_allowable_FARs']>1)][helpful_columns]"
   ]
  },
  {
   "cell_type": "markdown",
   "metadata": {},
   "source": [
    "Most zoning districts allow for community facility use. That's why some zones which are in only one district have facilFAR in addition to ResidFAR. More on this:\n",
    "\n",
    "In NYC a Community Facility is a certain use as defined in the New York City Zoning Resolution. Most zoning districts in NYC allow for Community Facility use or mixed use buildings.\n",
    "\n",
    "There are no community facility zoning districts in NYC. NYC has Residential Zoning, Commercial Zoning, and Manufacturing Zoning districts. Most of the zoning districts allow for Community facility Use.\n",
    " (https://fontanarchitecture.com/community-facility-zoning-nyc/)\n",
    " \n",
    "But what about districts that have both ResidFAR and CommFar, but only fall in one district?"
   ]
  },
  {
   "cell_type": "code",
   "execution_count": 42,
   "metadata": {},
   "outputs": [
    {
     "data": {
      "text/plain": [
       "count    856580.000000\n",
       "mean          1.099915\n",
       "std           5.490688\n",
       "min           0.000000\n",
       "25%           0.470000\n",
       "50%           0.740000\n",
       "75%           1.230000\n",
       "max        2483.500000\n",
       "Name: BuiltFAR, dtype: float64"
      ]
     },
     "execution_count": 42,
     "metadata": {},
     "output_type": "execute_result"
    }
   ],
   "source": [
    "mappluto['BuiltFAR'].describe()"
   ]
  },
  {
   "cell_type": "markdown",
   "metadata": {},
   "source": [
    "#### Calculate remaining FAR without distinguishing between the type of lot"
   ]
  },
  {
   "cell_type": "code",
   "execution_count": 45,
   "metadata": {},
   "outputs": [],
   "source": [
    "mappluto['remainingFAR'] = (mappluto['ResidFAR'] + mappluto['CommFAR'] + mappluto['FacilFAR']) - mappluto['BuiltFAR']"
   ]
  },
  {
   "cell_type": "code",
   "execution_count": 46,
   "metadata": {},
   "outputs": [],
   "source": [
    "mappluto['remainingSquareFeet'] = mappluto['remainingFAR']*mappluto['LotArea']"
   ]
  },
  {
   "cell_type": "markdown",
   "metadata": {},
   "source": [
    "#### Change the buildings where there is negative FAR left to NAN since this is because of a reporting issue related to allowances\n",
    "Will color these gray"
   ]
  },
  {
   "cell_type": "code",
   "execution_count": 49,
   "metadata": {},
   "outputs": [],
   "source": [
    "mappluto.loc[mappluto['remainingSquareFeet']<0, 'remainingSquareFeet'] = np.nan"
   ]
  },
  {
   "cell_type": "code",
   "execution_count": 53,
   "metadata": {},
   "outputs": [
    {
     "data": {
      "text/plain": [
       "0         8897195.80\n",
       "1          270943.00\n",
       "2                NaN\n",
       "3         1497979.40\n",
       "4         4322200.14\n",
       "             ...    \n",
       "857190       9144.00\n",
       "857191      19083.60\n",
       "857192      14289.76\n",
       "857193       8552.70\n",
       "857194       4240.00\n",
       "Name: remainingSquareFeet, Length: 857195, dtype: float64"
      ]
     },
     "execution_count": 53,
     "metadata": {},
     "output_type": "execute_result"
    }
   ],
   "source": [
    "mappluto['remainingSquareFeet'].hist()"
   ]
  },
  {
   "cell_type": "code",
   "execution_count": 52,
   "metadata": {},
   "outputs": [
    {
     "data": {
      "text/plain": [
       "{'whiskers': [<matplotlib.lines.Line2D at 0x335458f40>,\n",
       "  <matplotlib.lines.Line2D at 0x3352f02e0>],\n",
       " 'caps': [<matplotlib.lines.Line2D at 0x3352f0640>,\n",
       "  <matplotlib.lines.Line2D at 0x3352f09a0>],\n",
       " 'boxes': [<matplotlib.lines.Line2D at 0x335458be0>],\n",
       " 'medians': [<matplotlib.lines.Line2D at 0x3352f0d00>],\n",
       " 'fliers': [<matplotlib.lines.Line2D at 0x333b440a0>],\n",
       " 'means': []}"
      ]
     },
     "execution_count": 52,
     "metadata": {},
     "output_type": "execute_result"
    },
    {
     "data": {
      "image/png": "[encoded data removed]",
      "text/plain": [
       "<Figure size 432x288 with 1 Axes>"
      ]
     },
     "metadata": {
      "needs_background": "light"
     },
     "output_type": "display_data"
    }
   ],
   "source": [
    "plt.boxplot(mappluto['remainingSquareFeet'])"
   ]
  },
  {
   "cell_type": "markdown",
   "metadata": {},
   "source": [
    "#### Calculate percent of FAR used instead of square feet to make all plots equal"
   ]
  },
  {
   "cell_type": "code",
   "execution_count": 71,
   "metadata": {},
   "outputs": [
    {
     "data": {
      "text/plain": [
       "ZoneDist1\n",
       "BPC      43\n",
       "PARK    317\n",
       "R9-1      4\n",
       "Name: Lot, dtype: int64"
      ]
     },
     "metadata": {},
     "output_type": "display_data"
    }
   ],
   "source": [
    "#Filter out the data where allowableFAR is 0 - mostly parks\n",
    "display(mappluto[(mappluto['ResidFAR']==0) & (mappluto['CommFAR']==0)& (mappluto['FacilFAR']==0)].groupby(['ZoneDist1'])['Lot'].nunique())\n",
    "\n",
    "hasFAR = mappluto[~((mappluto['ResidFAR']==0) & (mappluto['CommFAR']==0) & (mappluto['FacilFAR']==0))]"
   ]
  },
  {
   "cell_type": "code",
   "execution_count": 72,
   "metadata": {},
   "outputs": [
    {
     "name": "stderr",
     "output_type": "stream",
     "text": [
      "/usr/local/anaconda3/envs/carto/lib/python3.8/site-packages/geopandas/geodataframe.py:853: SettingWithCopyWarning: \n",
      "A value is trying to be set on a copy of a slice from a DataFrame.\n",
      "Try using .loc[row_indexer,col_indexer] = value instead\n",
      "\n",
      "See the caveats in the documentation: https://pandas.pydata.org/pandas-docs/stable/user_guide/indexing.html#returning-a-view-versus-a-copy\n",
      "  super(GeoDataFrame, self).__setitem__(key, value)\n"
     ]
    }
   ],
   "source": [
    "hasFAR['percentFARused'] = hasFAR['BuiltFAR']/(hasFAR['ResidFAR'] + hasFAR['CommFAR'] + hasFAR['FacilFAR'])*100"
   ]
  },
  {
   "cell_type": "code",
   "execution_count": 77,
   "metadata": {},
   "outputs": [
    {
     "data": {
      "text/plain": [
       "count    853882.000000\n",
       "mean         31.204947\n",
       "std          35.154694\n",
       "min           0.000000\n",
       "25%          19.640387\n",
       "50%          28.666667\n",
       "75%          39.250000\n",
       "max       16540.921919\n",
       "Name: percentFARused, dtype: float64"
      ]
     },
     "execution_count": 77,
     "metadata": {},
     "output_type": "execute_result"
    }
   ],
   "source": [
    "hasFAR['percentFARused'].describe()"
   ]
  },
  {
   "cell_type": "code",
   "execution_count": null,
   "metadata": {},
   "outputs": [],
   "source": [
    "below_150 = hasFAR[hasFAR['percentFARused']<=150]\n",
    "below_100 = hasFAR[hasFAR['percentFARused']<=100]"
   ]
  },
  {
   "cell_type": "code",
   "execution_count": 81,
   "metadata": {},
   "outputs": [
    {
     "data": {
      "text/plain": [
       "{'whiskers': [<matplotlib.lines.Line2D at 0x1703a0f70>,\n",
       "  <matplotlib.lines.Line2D at 0x170464310>],\n",
       " 'caps': [<matplotlib.lines.Line2D at 0x170464670>,\n",
       "  <matplotlib.lines.Line2D at 0x1704649d0>],\n",
       " 'boxes': [<matplotlib.lines.Line2D at 0x1703a0c10>],\n",
       " 'medians': [<matplotlib.lines.Line2D at 0x170464d30>],\n",
       " 'fliers': [<matplotlib.lines.Line2D at 0x17052d0d0>],\n",
       " 'means': []}"
      ]
     },
     "execution_count": 81,
     "metadata": {},
     "output_type": "execute_result"
    },
    {
     "data": {
      "image/png": "[encoded data removed]",
      "text/plain": [
       "<Figure size 432x288 with 1 Axes>"
      ]
     },
     "metadata": {
      "needs_background": "light"
     },
     "output_type": "display_data"
    }
   ],
   "source": [
    "plt.boxplot(below_150['percentFARused'])"
   ]
  },
  {
   "cell_type": "code",
   "execution_count": 85,
   "metadata": {},
   "outputs": [],
   "source": [
    "data_layer = Layer(\n",
    "    below_150[~below_150['remainingSquareFeet'].isna()], \n",
    "    style=color_category_style('land_use_description'), \n",
    "    legends=basic_legend(title='Land use'),\n",
    "    encode_data =False)\n",
    "\n",
    "# missing_data_layer = Layer(mappluto[~mappluto['remainingSquareFeet'].isna()], \n",
    "#        style=color_basic_style('FLD_ZONE', opacity=.9, palette ='Teal'), \n",
    "#        legends=basic_legend(title='Moderate risk'), \n",
    "#        encode_data=False)\n",
    "\n",
    "Map(layers = [data_layer])"
   ]
  },
  {
   "cell_type": "code",
   "execution_count": null,
   "metadata": {},
   "outputs": [],
   "source": []
  }
 ],
 "metadata": {
  "kernelspec": {
   "display_name": "carto_kernel",
   "language": "python",
   "name": "carto_kernel"
  },
  "language_info": {
   "codemirror_mode": {
    "name": "ipython",
    "version": 3
   },
   "file_extension": ".py",
   "mimetype": "text/x-python",
   "name": "python",
   "nbconvert_exporter": "python",
   "pygments_lexer": "ipython3",
   "version": "3.8.6"
  }
 },
 "nbformat": 4,
 "nbformat_minor": 2
}
